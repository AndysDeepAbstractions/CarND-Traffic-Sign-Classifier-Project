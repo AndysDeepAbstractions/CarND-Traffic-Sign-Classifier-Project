{
 "cells": [
  {
   "cell_type": "markdown",
   "metadata": {
    "deletable": true,
    "editable": true
   },
   "source": [
    "# Self-Driving Car Engineer Nanodegree\n",
    "\n",
    "## Deep Learning\n",
    "\n",
    "## Project: Build a Traffic Sign Recognition Classifier\n",
    "\n",
    "In this notebook, a template is provided for you to implement your functionality in stages, which is required to successfully complete this project. If additional code is required that cannot be included in the notebook, be sure that the Python code is successfully imported and included in your submission if necessary. \n",
    "\n",
    "> **Note**: Once you have completed all of the code implementations, you need to finalize your work by exporting the iPython Notebook as an HTML document. Before exporting the notebook to html, all of the code cells need to have been run so that reviewers can see the final implementation and output. You can then export the notebook by using the menu above and navigating to  \\n\",\n",
    "    \"**File -> Download as -> HTML (.html)**. Include the finished document along with this notebook as your submission. \n",
    "\n",
    "In addition to implementing code, there is a writeup to complete. The writeup should be completed in a separate file, which can be either a markdown file or a pdf document. There is a [write up template](https://github.com/udacity/CarND-Traffic-Sign-Classifier-Project/blob/master/writeup_template.md) that can be used to guide the writing process. Completing the code template and writeup template will cover all of the [rubric points](https://review.udacity.com/#!/rubrics/481/view) for this project.\n",
    "\n",
    "The [rubric](https://review.udacity.com/#!/rubrics/481/view) contains \"Stand Out Suggestions\" for enhancing the project beyond the minimum requirements. The stand out suggestions are optional. If you decide to pursue the \"stand out suggestions\", you can include the code in this Ipython notebook and also discuss the results in the writeup file.\n",
    "\n",
    "\n",
    ">**Note:** Code and Markdown cells can be executed using the **Shift + Enter** keyboard shortcut. In addition, Markdown cells can be edited by typically double-clicking the cell to enter edit mode."
   ]
  },
  {
   "cell_type": "markdown",
   "metadata": {
    "deletable": true,
    "editable": true
   },
   "source": [
    "---\n",
    "## Step 0: Load The Data"
   ]
  },
  {
   "cell_type": "code",
   "execution_count": 1,
   "metadata": {
    "collapsed": false,
    "deletable": true,
    "editable": true
   },
   "outputs": [],
   "source": [
    "import pickle\n",
    "\n",
    "training_file = 'train.p'\n",
    "validation_file = 'valid.p'\n",
    "testing_file = 'test.p'\n",
    "\n",
    "with open(training_file, mode='rb') as f:\n",
    "    train = pickle.load(f)\n",
    "with open(validation_file, mode='rb') as f:\n",
    "    valid = pickle.load(f)\n",
    "with open(testing_file, mode='rb') as f:\n",
    "    test = pickle.load(f)\n",
    "    \n",
    "X_train_org, y_train_org = train['features'], train['labels']\n",
    "X_valid_org, y_valid_org = valid['features'], valid['labels']\n",
    "X_test_org , y_test_org  = test['features'],  test['labels']"
   ]
  },
  {
   "cell_type": "markdown",
   "metadata": {
    "deletable": true,
    "editable": true
   },
   "source": [
    "---\n",
    "\n",
    "## Step 1: Dataset Summary & Exploration\n",
    "\n",
    "The pickled data is a dictionary with 4 key/value pairs:\n",
    "\n",
    "- `'features'` is a 4D array containing raw pixel data of the traffic sign images, (num examples, width, height, channels).\n",
    "- `'labels'` is a 1D array containing the label/class id of the traffic sign. The file `signnames.csv` contains id -> name mappings for each id.\n",
    "- `'sizes'` is a list containing tuples, (width, height) representing the original width and height the image.\n",
    "- `'coords'` is a list containing tuples, (x1, y1, x2, y2) representing coordinates of a bounding box around the sign in the image. **THESE COORDINATES ASSUME THE ORIGINAL IMAGE. THE PICKLED DATA CONTAINS RESIZED VERSIONS (32 by 32) OF THESE IMAGES**\n",
    "\n",
    "Complete the basic data summary below. Use python, numpy and/or pandas methods to calculate the data summary rather than hard coding the results. For example, the [pandas shape method](http://pandas.pydata.org/pandas-docs/stable/generated/pandas.DataFrame.shape.html) might be useful for calculating some of the summary results. "
   ]
  },
  {
   "cell_type": "markdown",
   "metadata": {
    "deletable": true,
    "editable": true
   },
   "source": [
    "### Provide a Basic Summary of the Data Set Using Python, Numpy and/or Pandas"
   ]
  },
  {
   "cell_type": "code",
   "execution_count": 2,
   "metadata": {
    "collapsed": false,
    "deletable": true,
    "editable": true
   },
   "outputs": [
    {
     "name": "stdout",
     "output_type": "stream",
     "text": [
      "Number of training examples = 34799\n",
      "Number of testing examples = 12630\n",
      "Image data shape = (32, 32)\n",
      "Number of classes = 43\n"
     ]
    }
   ],
   "source": [
    "### Replace each question mark with the appropriate value. \n",
    "### Use python, pandas or numpy methods rather than hard coding the results\n",
    "\n",
    "# Number of training examples\n",
    "n_train = X_train_org.shape[0]\n",
    "\n",
    "# Number of testing examples.\n",
    "n_test = X_test_org.shape[0]\n",
    "\n",
    "# What's the shape of an traffic sign image?\n",
    "image_shape = X_train_org.shape[1:3]\n",
    "\n",
    "# How many unique classes/labels there are in the dataset.\n",
    "n_classes = max(y_train_org)+1\n",
    "\n",
    "print(\"Number of training examples =\", n_train)\n",
    "print(\"Number of testing examples =\", n_test)\n",
    "print(\"Image data shape =\", image_shape)\n",
    "print(\"Number of classes =\", n_classes)"
   ]
  },
  {
   "cell_type": "markdown",
   "metadata": {
    "deletable": true,
    "editable": true
   },
   "source": [
    "### Include an exploratory visualization of the dataset"
   ]
  },
  {
   "cell_type": "markdown",
   "metadata": {
    "deletable": true,
    "editable": true
   },
   "source": [
    "Visualize the German Traffic Signs Dataset using the pickled file(s). This is open ended, suggestions include: plotting traffic sign images, plotting the count of each sign, etc.\n",
    "\n",
    "The [Matplotlib](http://matplotlib.org/) [examples](http://matplotlib.org/examples/index.html) and [gallery](http://matplotlib.org/gallery.html) pages are a great resource for doing visualizations in Python.\n",
    "\n",
    "**NOTE:** It's recommended you start with something simple first. If you wish to do more, come back to it after you've completed the rest of the sections."
   ]
  },
  {
   "cell_type": "code",
   "execution_count": 3,
   "metadata": {
    "collapsed": false,
    "deletable": true,
    "editable": true
   },
   "outputs": [
    {
     "data": {
      "text/html": [
       "<div>\n",
       "<table border=\"1\" class=\"dataframe\">\n",
       "  <thead>\n",
       "    <tr style=\"text-align: right;\">\n",
       "      <th></th>\n",
       "      <th>ClassId</th>\n",
       "      <th>SignName</th>\n",
       "    </tr>\n",
       "  </thead>\n",
       "  <tbody>\n",
       "    <tr>\n",
       "      <th>0</th>\n",
       "      <td>0</td>\n",
       "      <td>Speed limit (20km/h)</td>\n",
       "    </tr>\n",
       "    <tr>\n",
       "      <th>1</th>\n",
       "      <td>1</td>\n",
       "      <td>Speed limit (30km/h)</td>\n",
       "    </tr>\n",
       "    <tr>\n",
       "      <th>2</th>\n",
       "      <td>2</td>\n",
       "      <td>Speed limit (50km/h)</td>\n",
       "    </tr>\n",
       "    <tr>\n",
       "      <th>3</th>\n",
       "      <td>3</td>\n",
       "      <td>Speed limit (60km/h)</td>\n",
       "    </tr>\n",
       "    <tr>\n",
       "      <th>4</th>\n",
       "      <td>4</td>\n",
       "      <td>Speed limit (70km/h)</td>\n",
       "    </tr>\n",
       "    <tr>\n",
       "      <th>5</th>\n",
       "      <td>5</td>\n",
       "      <td>Speed limit (80km/h)</td>\n",
       "    </tr>\n",
       "    <tr>\n",
       "      <th>6</th>\n",
       "      <td>6</td>\n",
       "      <td>End of speed limit (80km/h)</td>\n",
       "    </tr>\n",
       "    <tr>\n",
       "      <th>7</th>\n",
       "      <td>7</td>\n",
       "      <td>Speed limit (100km/h)</td>\n",
       "    </tr>\n",
       "    <tr>\n",
       "      <th>8</th>\n",
       "      <td>8</td>\n",
       "      <td>Speed limit (120km/h)</td>\n",
       "    </tr>\n",
       "    <tr>\n",
       "      <th>9</th>\n",
       "      <td>9</td>\n",
       "      <td>No passing</td>\n",
       "    </tr>\n",
       "    <tr>\n",
       "      <th>10</th>\n",
       "      <td>10</td>\n",
       "      <td>No passing for vehicles over 3.5 metric tons</td>\n",
       "    </tr>\n",
       "    <tr>\n",
       "      <th>11</th>\n",
       "      <td>11</td>\n",
       "      <td>Right-of-way at the next intersection</td>\n",
       "    </tr>\n",
       "    <tr>\n",
       "      <th>12</th>\n",
       "      <td>12</td>\n",
       "      <td>Priority road</td>\n",
       "    </tr>\n",
       "    <tr>\n",
       "      <th>13</th>\n",
       "      <td>13</td>\n",
       "      <td>Yield</td>\n",
       "    </tr>\n",
       "    <tr>\n",
       "      <th>14</th>\n",
       "      <td>14</td>\n",
       "      <td>Stop</td>\n",
       "    </tr>\n",
       "    <tr>\n",
       "      <th>15</th>\n",
       "      <td>15</td>\n",
       "      <td>No vehicles</td>\n",
       "    </tr>\n",
       "    <tr>\n",
       "      <th>16</th>\n",
       "      <td>16</td>\n",
       "      <td>Vehicles over 3.5 metric tons prohibited</td>\n",
       "    </tr>\n",
       "    <tr>\n",
       "      <th>17</th>\n",
       "      <td>17</td>\n",
       "      <td>No entry</td>\n",
       "    </tr>\n",
       "    <tr>\n",
       "      <th>18</th>\n",
       "      <td>18</td>\n",
       "      <td>General caution</td>\n",
       "    </tr>\n",
       "    <tr>\n",
       "      <th>19</th>\n",
       "      <td>19</td>\n",
       "      <td>Dangerous curve to the left</td>\n",
       "    </tr>\n",
       "    <tr>\n",
       "      <th>20</th>\n",
       "      <td>20</td>\n",
       "      <td>Dangerous curve to the right</td>\n",
       "    </tr>\n",
       "    <tr>\n",
       "      <th>21</th>\n",
       "      <td>21</td>\n",
       "      <td>Double curve</td>\n",
       "    </tr>\n",
       "    <tr>\n",
       "      <th>22</th>\n",
       "      <td>22</td>\n",
       "      <td>Bumpy road</td>\n",
       "    </tr>\n",
       "    <tr>\n",
       "      <th>23</th>\n",
       "      <td>23</td>\n",
       "      <td>Slippery road</td>\n",
       "    </tr>\n",
       "    <tr>\n",
       "      <th>24</th>\n",
       "      <td>24</td>\n",
       "      <td>Road narrows on the right</td>\n",
       "    </tr>\n",
       "    <tr>\n",
       "      <th>25</th>\n",
       "      <td>25</td>\n",
       "      <td>Road work</td>\n",
       "    </tr>\n",
       "    <tr>\n",
       "      <th>26</th>\n",
       "      <td>26</td>\n",
       "      <td>Traffic signals</td>\n",
       "    </tr>\n",
       "    <tr>\n",
       "      <th>27</th>\n",
       "      <td>27</td>\n",
       "      <td>Pedestrians</td>\n",
       "    </tr>\n",
       "    <tr>\n",
       "      <th>28</th>\n",
       "      <td>28</td>\n",
       "      <td>Children crossing</td>\n",
       "    </tr>\n",
       "    <tr>\n",
       "      <th>29</th>\n",
       "      <td>29</td>\n",
       "      <td>Bicycles crossing</td>\n",
       "    </tr>\n",
       "    <tr>\n",
       "      <th>30</th>\n",
       "      <td>30</td>\n",
       "      <td>Beware of ice/snow</td>\n",
       "    </tr>\n",
       "    <tr>\n",
       "      <th>31</th>\n",
       "      <td>31</td>\n",
       "      <td>Wild animals crossing</td>\n",
       "    </tr>\n",
       "    <tr>\n",
       "      <th>32</th>\n",
       "      <td>32</td>\n",
       "      <td>End of all speed and passing limits</td>\n",
       "    </tr>\n",
       "    <tr>\n",
       "      <th>33</th>\n",
       "      <td>33</td>\n",
       "      <td>Turn right ahead</td>\n",
       "    </tr>\n",
       "    <tr>\n",
       "      <th>34</th>\n",
       "      <td>34</td>\n",
       "      <td>Turn left ahead</td>\n",
       "    </tr>\n",
       "    <tr>\n",
       "      <th>35</th>\n",
       "      <td>35</td>\n",
       "      <td>Ahead only</td>\n",
       "    </tr>\n",
       "    <tr>\n",
       "      <th>36</th>\n",
       "      <td>36</td>\n",
       "      <td>Go straight or right</td>\n",
       "    </tr>\n",
       "    <tr>\n",
       "      <th>37</th>\n",
       "      <td>37</td>\n",
       "      <td>Go straight or left</td>\n",
       "    </tr>\n",
       "    <tr>\n",
       "      <th>38</th>\n",
       "      <td>38</td>\n",
       "      <td>Keep right</td>\n",
       "    </tr>\n",
       "    <tr>\n",
       "      <th>39</th>\n",
       "      <td>39</td>\n",
       "      <td>Keep left</td>\n",
       "    </tr>\n",
       "    <tr>\n",
       "      <th>40</th>\n",
       "      <td>40</td>\n",
       "      <td>Roundabout mandatory</td>\n",
       "    </tr>\n",
       "    <tr>\n",
       "      <th>41</th>\n",
       "      <td>41</td>\n",
       "      <td>End of no passing</td>\n",
       "    </tr>\n",
       "    <tr>\n",
       "      <th>42</th>\n",
       "      <td>42</td>\n",
       "      <td>End of no passing by vehicles over 3.5 metric ...</td>\n",
       "    </tr>\n",
       "  </tbody>\n",
       "</table>\n",
       "</div>"
      ],
      "text/plain": [
       "    ClassId                                           SignName\n",
       "0         0                               Speed limit (20km/h)\n",
       "1         1                               Speed limit (30km/h)\n",
       "2         2                               Speed limit (50km/h)\n",
       "3         3                               Speed limit (60km/h)\n",
       "4         4                               Speed limit (70km/h)\n",
       "5         5                               Speed limit (80km/h)\n",
       "6         6                        End of speed limit (80km/h)\n",
       "7         7                              Speed limit (100km/h)\n",
       "8         8                              Speed limit (120km/h)\n",
       "9         9                                         No passing\n",
       "10       10       No passing for vehicles over 3.5 metric tons\n",
       "11       11              Right-of-way at the next intersection\n",
       "12       12                                      Priority road\n",
       "13       13                                              Yield\n",
       "14       14                                               Stop\n",
       "15       15                                        No vehicles\n",
       "16       16           Vehicles over 3.5 metric tons prohibited\n",
       "17       17                                           No entry\n",
       "18       18                                    General caution\n",
       "19       19                        Dangerous curve to the left\n",
       "20       20                       Dangerous curve to the right\n",
       "21       21                                       Double curve\n",
       "22       22                                         Bumpy road\n",
       "23       23                                      Slippery road\n",
       "24       24                          Road narrows on the right\n",
       "25       25                                          Road work\n",
       "26       26                                    Traffic signals\n",
       "27       27                                        Pedestrians\n",
       "28       28                                  Children crossing\n",
       "29       29                                  Bicycles crossing\n",
       "30       30                                 Beware of ice/snow\n",
       "31       31                              Wild animals crossing\n",
       "32       32                End of all speed and passing limits\n",
       "33       33                                   Turn right ahead\n",
       "34       34                                    Turn left ahead\n",
       "35       35                                         Ahead only\n",
       "36       36                               Go straight or right\n",
       "37       37                                Go straight or left\n",
       "38       38                                         Keep right\n",
       "39       39                                          Keep left\n",
       "40       40                               Roundabout mandatory\n",
       "41       41                                  End of no passing\n",
       "42       42  End of no passing by vehicles over 3.5 metric ..."
      ]
     },
     "execution_count": 3,
     "metadata": {},
     "output_type": "execute_result"
    }
   ],
   "source": [
    "### Data exploration visualization code goes here.\n",
    "### Feel free to use as many code cells as needed.\n",
    "import matplotlib.pyplot as plt\n",
    "# Visualizations will be shown in the notebook.\n",
    "%matplotlib inline\n",
    "\n",
    "import pandas as pd\n",
    "df = pd.read_csv('./signnames.csv')\n",
    "df"
   ]
  },
  {
   "cell_type": "code",
   "execution_count": 4,
   "metadata": {
    "collapsed": false,
    "deletable": true,
    "editable": true
   },
   "outputs": [
    {
     "data": {
      "image/png": "[encoded data removed]",
      "text/plain": [
       "<matplotlib.figure.Figure at 0x269ee9b2f28>"
      ]
     },
     "metadata": {},
     "output_type": "display_data"
    },
    {
     "name": "stdout",
     "output_type": "stream",
     "text": [
      "End of no passing, ID: 41\n"
     ]
    },
    {
     "data": {
      "image/png": "[encoded data removed]",
      "text/plain": [
       "<matplotlib.figure.Figure at 0x269f115ed30>"
      ]
     },
     "metadata": {},
     "output_type": "display_data"
    },
    {
     "name": "stdout",
     "output_type": "stream",
     "text": [
      "Speed limit (70km/h), ID: 4\n"
     ]
    },
    {
     "data": {
      "image/png": "[encoded data removed]",
      "text/plain": [
       "<matplotlib.figure.Figure at 0x269f120e6d8>"
      ]
     },
     "metadata": {},
     "output_type": "display_data"
    },
    {
     "name": "stdout",
     "output_type": "stream",
     "text": [
      "Speed limit (80km/h), ID: 5\n"
     ]
    },
    {
     "data": {
      "image/png": "[encoded data removed]",
      "text/plain": [
       "<matplotlib.figure.Figure at 0x269f349cc88>"
      ]
     },
     "metadata": {},
     "output_type": "display_data"
    },
    {
     "name": "stdout",
     "output_type": "stream",
     "text": [
      "General caution, ID: 18\n"
     ]
    },
    {
     "data": {
      "image/png": "[encoded data removed]",
      "text/plain": [
       "<matplotlib.figure.Figure at 0x269f1214588>"
      ]
     },
     "metadata": {},
     "output_type": "display_data"
    },
    {
     "name": "stdout",
     "output_type": "stream",
     "text": [
      "Priority road, ID: 12\n"
     ]
    },
    {
     "data": {
      "image/png": "[encoded data removed]",
      "text/plain": [
       "<matplotlib.figure.Figure at 0x269f3569fd0>"
      ]
     },
     "metadata": {},
     "output_type": "display_data"
    },
    {
     "name": "stdout",
     "output_type": "stream",
     "text": [
      "Road work, ID: 25\n"
     ]
    }
   ],
   "source": [
    "def visualise_dataset(X_train,y_train):\n",
    "    for i in range(0,X_train.shape[0],int(X_train.shape[0]/5)):  \n",
    "        image =  X_train[i,:,:,:]\n",
    "        fig, ax = plt.subplots()\n",
    "        ax.imshow(image)\n",
    "        plt.show()\n",
    "        sign_id = y_train[i]\n",
    "        sign_name = df.values[int(sign_id),-1]\n",
    "        print('{1}, ID: {0}'.format(sign_id,sign_name))\n",
    "    \n",
    "visualise_dataset(X_train_org,y_train_org)       "
   ]
  },
  {
   "cell_type": "code",
   "execution_count": 5,
   "metadata": {
    "collapsed": false,
    "deletable": true,
    "editable": true
   },
   "outputs": [
    {
     "data": {
      "text/plain": [
       "array([41, 31, 31, 36, 26, 23,  1,  1,  1,  1,  1, 40, 22, 16,  3,  3,  3,\n",
       "       19,  4,  4,  4,  4, 11, 11, 11,  0, 27, 24,  9,  9,  9,  5,  5,  5,\n",
       "        5,  5, 38, 38, 38, 38,  8,  8,  8, 10, 10, 10, 10, 10, 35, 35, 35,\n",
       "       18, 18, 18,  6, 13, 13, 13, 13, 13,  7,  7,  7, 30, 39, 20, 33, 33,\n",
       "       28, 12, 12, 12, 12, 12, 14, 15, 15, 17, 17,  2,  2,  2,  2,  2, 25,\n",
       "       25, 25], dtype=uint8)"
      ]
     },
     "execution_count": 5,
     "metadata": {},
     "output_type": "execute_result"
    }
   ],
   "source": [
    "y_train_org[range(0,34799,400)]"
   ]
  },
  {
   "cell_type": "markdown",
   "metadata": {
    "deletable": true,
    "editable": true
   },
   "source": [
    "----\n",
    "\n",
    "## Step 2: Design and Test a Model Architecture\n",
    "\n",
    "Design and implement a deep learning model that learns to recognize traffic signs. Train and test your model on the [German Traffic Sign Dataset](http://benchmark.ini.rub.de/?section=gtsrb&subsection=dataset).\n",
    "\n",
    "The LeNet-5 implementation shown in the [classroom](https://classroom.udacity.com/nanodegrees/nd013/parts/fbf77062-5703-404e-b60c-95b78b2f3f9e/modules/6df7ae49-c61c-4bb2-a23e-6527e69209ec/lessons/601ae704-1035-4287-8b11-e2c2716217ad/concepts/d4aca031-508f-4e0b-b493-e7b706120f81) at the end of the CNN lesson is a solid starting point. You'll have to change the number of classes and possibly the preprocessing, but aside from that it's plug and play! \n",
    "\n",
    "With the LeNet-5 solution from the lecture, you should expect a validation set accuracy of about 0.89. To meet specifications, the validation set accuracy will need to be at least 0.93. It is possible to get an even higher accuracy, but 0.93 is the minimum for a successful project submission. \n",
    "\n",
    "There are various aspects to consider when thinking about this problem:\n",
    "\n",
    "- Neural network architecture (is the network over or underfitting?)\n",
    "- Play around preprocessing techniques (normalization, rgb to grayscale, etc)\n",
    "- Number of examples per label (some have more than others).\n",
    "- Generate fake data.\n",
    "\n",
    "Here is an example of a [published baseline model on this problem](http://yann.lecun.com/exdb/publis/pdf/sermanet-ijcnn-11.pdf). It's not required to be familiar with the approach used in the paper but, it's good practice to try to read papers like these."
   ]
  },
  {
   "cell_type": "markdown",
   "metadata": {
    "deletable": true,
    "editable": true
   },
   "source": [
    "### Pre-process the Data Set (normalization, grayscale, etc.)"
   ]
  },
  {
   "cell_type": "markdown",
   "metadata": {
    "deletable": true,
    "editable": true
   },
   "source": [
    "Use the code cell (or multiple code cells, if necessary) to implement the first step of your project."
   ]
  },
  {
   "cell_type": "code",
   "execution_count": 6,
   "metadata": {
    "collapsed": false,
    "deletable": true,
    "editable": true
   },
   "outputs": [
    {
     "name": "stdout",
     "output_type": "stream",
     "text": [
      "(34799, 32, 32, 3)\n",
      "(4410, 32, 32, 3)\n",
      "(12630, 32, 32, 3)\n",
      "[28 25 24]\n"
     ]
    }
   ],
   "source": [
    "print(X_train_org.shape)\n",
    "print(X_valid_org.shape)\n",
    "print(X_test_org.shape)\n",
    "print(X_train_org[0,0,0,:])"
   ]
  },
  {
   "cell_type": "code",
   "execution_count": 7,
   "metadata": {
    "collapsed": false,
    "deletable": true,
    "editable": true
   },
   "outputs": [],
   "source": [
    "import cv2\n",
    "import numpy as np\n",
    "\n",
    "def one_hot_encode(x):\n",
    "    \"\"\"\n",
    "    One hot encode a list of sample labels. Return a one-hot encoded vector for each label.\n",
    "    : x: List of sample Labels\n",
    "    : return: Numpy array of one-hot encoded labels\n",
    "    \"\"\"\n",
    "\n",
    "    np.set_printoptions(threshold=np.nan)\n",
    "    from sklearn.preprocessing import LabelBinarizer\n",
    "    \n",
    "    # Turn labels into numbers and apply One-Hot Encoding\n",
    "    encoder = LabelBinarizer()\n",
    "    encoder.fit(range(43))\n",
    "    \n",
    "    x = encoder.transform(x)\n",
    "    # Change to float32, so it can be multiplied against the features in TensorFlow, which are float32\n",
    "    x = x.astype(np.float32)\n",
    "    \n",
    "    return x\n",
    "\n",
    "y_train = one_hot_encode(y_train_org)\n",
    "y_valid = one_hot_encode(y_valid_org)\n",
    "y_test  = one_hot_encode(y_test_org)\n",
    "\n",
    "def conv_to_concat_colorspace(image_batch):\n",
    "    shape = np.asarray(image_batch.shape)\n",
    "    shape[-1] = 4\n",
    "    concat_batch = np.empty(shape)\n",
    "    for idx in range(image_batch.shape[0]):\n",
    "        concat_batch[idx,:,:,0:3] = cv2.cvtColor(image_batch[idx], cv2.COLOR_RGB2YCrCb )\n",
    "        #concat_batch[idx,:,:,3:6] = cv2.cvtColor(image_batch[idx], cv2.COLOR_RGB2YUV )\n",
    "        #concat_batch[idx,:,:,3] = cv2.cvtColor(image_batch[idx], cv2.COLOR_RGB2HLS)[:,:,2]\n",
    "        concat_batch[idx,:,:,3] = cv2.cvtColor(image_batch[idx], cv2.COLOR_RGB2HSV)[:,:,1]\n",
    "        #concat_batch[idx,:,:,5:8] = image_batch[idx]\n",
    "        concat_batch[idx,:,:,:]   =  concat_batch[idx,:,:,:]/255\n",
    "    return concat_batch\n",
    "\n",
    "use_YCrCB_S = False\n",
    "if use_YCrCB_S:\n",
    "    %time X_train = conv_to_concat_colorspace(X_train_org)\n",
    "    %time X_valid = conv_to_concat_colorspace(X_valid_org)\n",
    "    %time X_test  = conv_to_concat_colorspace(X_test_org)\n",
    "else:\n",
    "    X_train = np.sum(X_train_org,axis=3, keepdims=True)/3/255\n",
    "    X_valid = np.sum(X_valid_org,axis=3, keepdims=True)/3/255\n",
    "    X_test  = np.sum(X_test_org,axis=3, keepdims=True)/3/255"
   ]
  },
  {
   "cell_type": "code",
   "execution_count": 8,
   "metadata": {
    "collapsed": false,
    "deletable": true,
    "editable": true
   },
   "outputs": [
    {
     "name": "stdout",
     "output_type": "stream",
     "text": [
      "(4410, 32, 32, 1)\n"
     ]
    },
    {
     "data": {
      "image/png": "[encoded data removed]",
      "text/plain": [
       "<matplotlib.figure.Figure at 0x269ee946518>"
      ]
     },
     "metadata": {},
     "output_type": "display_data"
    },
    {
     "name": "stdout",
     "output_type": "stream",
     "text": [
      "End of no passing, ID: 41\n"
     ]
    },
    {
     "data": {
      "image/png": "[encoded data removed]",
      "text/plain": [
       "<matplotlib.figure.Figure at 0x2698002d9b0>"
      ]
     },
     "metadata": {},
     "output_type": "display_data"
    },
    {
     "name": "stdout",
     "output_type": "stream",
     "text": [
      "Wild animals crossing, ID: 31\n"
     ]
    },
    {
     "data": {
      "image/png": "[encoded data removed]",
      "text/plain": [
       "<matplotlib.figure.Figure at 0x2698005cd30>"
      ]
     },
     "metadata": {},
     "output_type": "display_data"
    },
    {
     "name": "stdout",
     "output_type": "stream",
     "text": [
      "Wild animals crossing, ID: 31\n"
     ]
    },
    {
     "data": {
      "image/png": "[encoded data removed]",
      "text/plain": [
       "<matplotlib.figure.Figure at 0x269800be710>"
      ]
     },
     "metadata": {},
     "output_type": "display_data"
    },
    {
     "name": "stdout",
     "output_type": "stream",
     "text": [
      "Wild animals crossing, ID: 31\n"
     ]
    },
    {
     "data": {
      "image/png": "[encoded data removed]",
      "text/plain": [
       "<matplotlib.figure.Figure at 0x26980112a90>"
      ]
     },
     "metadata": {},
     "output_type": "display_data"
    },
    {
     "name": "stdout",
     "output_type": "stream",
     "text": [
      "Go straight or right, ID: 36\n"
     ]
    },
    {
     "data": {
      "image/png": "[encoded data removed]",
      "text/plain": [
       "<matplotlib.figure.Figure at 0x26980182cc0>"
      ]
     },
     "metadata": {},
     "output_type": "display_data"
    },
    {
     "name": "stdout",
     "output_type": "stream",
     "text": [
      "Traffic signals, ID: 26\n"
     ]
    },
    {
     "data": {
      "image/png": "[encoded data removed]",
      "text/plain": [
       "<matplotlib.figure.Figure at 0x269801a65f8>"
      ]
     },
     "metadata": {},
     "output_type": "display_data"
    },
    {
     "name": "stdout",
     "output_type": "stream",
     "text": [
      "Traffic signals, ID: 26\n"
     ]
    },
    {
     "data": {
      "image/png": "[encoded data removed]",
      "text/plain": [
       "<matplotlib.figure.Figure at 0x2698013fe48>"
      ]
     },
     "metadata": {},
     "output_type": "display_data"
    },
    {
     "name": "stdout",
     "output_type": "stream",
     "text": [
      "Slippery road, ID: 23\n"
     ]
    },
    {
     "data": {
      "image/png": "[encoded data removed]",
      "text/plain": [
       "<matplotlib.figure.Figure at 0x2698008cba8>"
      ]
     },
     "metadata": {},
     "output_type": "display_data"
    },
    {
     "name": "stdout",
     "output_type": "stream",
     "text": [
      "Speed limit (30km/h), ID: 1\n"
     ]
    },
    {
     "data": {
      "image/png": "[encoded data removed]",
      "text/plain": [
       "<matplotlib.figure.Figure at 0x269f127a0b8>"
      ]
     },
     "metadata": {},
     "output_type": "display_data"
    },
    {
     "name": "stdout",
     "output_type": "stream",
     "text": [
      "Speed limit (30km/h), ID: 1\n"
     ]
    },
    {
     "data": {
      "image/png": "[encoded data removed]",
      "text/plain": [
       "<matplotlib.figure.Figure at 0x269f354ee48>"
      ]
     },
     "metadata": {},
     "output_type": "display_data"
    },
    {
     "name": "stdout",
     "output_type": "stream",
     "text": [
      "Speed limit (30km/h), ID: 1\n"
     ]
    },
    {
     "data": {
      "image/png": "[encoded data removed]",
      "text/plain": [
       "<matplotlib.figure.Figure at 0x269801fccf8>"
      ]
     },
     "metadata": {},
     "output_type": "display_data"
    },
    {
     "name": "stdout",
     "output_type": "stream",
     "text": [
      "Speed limit (30km/h), ID: 1\n"
     ]
    },
    {
     "data": {
      "image/png": "[encoded data removed]",
      "text/plain": [
       "<matplotlib.figure.Figure at 0x269800f2fd0>"
      ]
     },
     "metadata": {},
     "output_type": "display_data"
    },
    {
     "name": "stdout",
     "output_type": "stream",
     "text": [
      "Speed limit (30km/h), ID: 1\n"
     ]
    },
    {
     "data": {
      "image/png": "[encoded data removed]",
      "text/plain": [
       "<matplotlib.figure.Figure at 0x26980065d68>"
      ]
     },
     "metadata": {},
     "output_type": "display_data"
    },
    {
     "name": "stdout",
     "output_type": "stream",
     "text": [
      "Speed limit (30km/h), ID: 1\n"
     ]
    },
    {
     "data": {
      "image/png": "[encoded data removed]",
      "text/plain": [
       "<matplotlib.figure.Figure at 0x269814c7550>"
      ]
     },
     "metadata": {},
     "output_type": "display_data"
    },
    {
     "name": "stdout",
     "output_type": "stream",
     "text": [
      "Speed limit (30km/h), ID: 1\n",
      "Wall time: 13.9 s\n"
     ]
    }
   ],
   "source": [
    "def visualise_dataset(image,y_valid_org):\n",
    "    plt_num = 1\n",
    "    print(image.shape)\n",
    "    \n",
    "    for image_idx in range(0,image.shape[0],int(image.shape[0]/15)):\n",
    "        channels = image.shape[3]\n",
    "        plt.figure(plt_num, figsize=(32,32))\n",
    "        for channel in range(channels):\n",
    "            plt.subplot(4,8, channel+1) # sets the number of feature maps to show on each row and column\n",
    "            plt.title('channel ' + str(channel)) # displays the feature map number\n",
    "            plt.imshow(image[image_idx,:,:, channel], interpolation=\"nearest\", cmap=\"gray\")\n",
    "        plt.show()\n",
    "\n",
    "        sign_id = y_train_org[image_idx]\n",
    "        sign_name = df.values[int(sign_id),-1]\n",
    "        print('{1}, ID: {0}'.format(sign_id,sign_name))\n",
    "        \n",
    "%time visualise_dataset(X_valid[:,:,:,:],y_valid_org)       "
   ]
  },
  {
   "cell_type": "code",
   "execution_count": 9,
   "metadata": {
    "collapsed": false,
    "deletable": true,
    "editable": true,
    "scrolled": true
   },
   "outputs": [],
   "source": [
    "if False:\n",
    "    with open('X_train.pickle', 'rb') as handle:\n",
    "        X_train = pickle.load(handle, protocol=pickle.HIGHEST_PROTOCOL)\n",
    "    with open('X_valid.pickle', 'rb') as handle:\n",
    "        X_valid = pickle.load(handle, protocol=pickle.HIGHEST_PROTOCOL)\n",
    "    with open('X_test.pickle', 'rb') as handle:\n",
    "        X_test = pickle.load(handle, protocol=pickle.HIGHEST_PROTOCOL)\n",
    "        \n",
    "if False:\n",
    "    with open('X_train.pickle', 'wb') as handle:\n",
    "        pickle.dump(X_train, handle, protocol=pickle.HIGHEST_PROTOCOL)\n",
    "    with open('X_valid.pickle', 'wb') as handle:\n",
    "        pickle.dump(X_valid, handle, protocol=pickle.HIGHEST_PROTOCOL)\n",
    "    with open('X_test.pickle', 'wb') as handle:\n",
    "        pickle.dump(X_test, handle, protocol=pickle.HIGHEST_PROTOCOL)"
   ]
  },
  {
   "cell_type": "code",
   "execution_count": 10,
   "metadata": {
    "collapsed": false,
    "deletable": true,
    "editable": true
   },
   "outputs": [
    {
     "name": "stdout",
     "output_type": "stream",
     "text": [
      "(34799, 32, 32, 1)\n",
      "(4410, 32, 32, 1)\n",
      "(12630, 32, 32, 1)\n",
      "[ 0.10065359]\n"
     ]
    }
   ],
   "source": [
    "print(X_train.shape)\n",
    "print(X_valid.shape)\n",
    "print(X_test.shape)\n",
    "print(X_train[0,0,0,:])"
   ]
  },
  {
   "cell_type": "markdown",
   "metadata": {
    "deletable": true,
    "editable": true
   },
   "source": [
    "### Model Architecture"
   ]
  },
  {
   "cell_type": "code",
   "execution_count": null,
   "metadata": {
    "collapsed": false,
    "deletable": true,
    "editable": true
   },
   "outputs": [],
   "source": [
    "import tensorflow as tf\n",
    "\n",
    "def conv2d(x_tensor, conv_num_outputs, conv_ksize, conv_strides):\n",
    "    \"\"\"\n",
    "    Apply convolution then max pooling to x_tensor\n",
    "    :param x_tensor: TensorFlow Tensor\n",
    "    :param conv_num_outputs: Number of outputs for the convolutional layer\n",
    "    :param conv_ksize: kernal size 2-D Tuple for the convolutional layer\n",
    "    :param conv_strides: Stride 2-D Tuple for convolution\n",
    "    :param pool_ksize: kernal size 2-D Tuple for pool\n",
    "    :param pool_strides: Stride 2-D Tuple for pool\n",
    "    : return: A tensor that represents convolution and max pooling of x_tensor\n",
    "    \"\"\"    \n",
    "    \n",
    "    # Create the weight and bias\n",
    "    biases  = tf.Variable(tf.zeros(conv_num_outputs))\n",
    "    # TF 1.0 :\n",
    "    #weights_depth = x_tensor.shape.as_list()[-1]\n",
    "    # TF 0.12 :\n",
    "    weights_depth = x_tensor.get_shape().as_list()[-1]\n",
    "    weights_dim = [conv_ksize[0], conv_ksize[1], weights_depth, conv_num_outputs]\n",
    "    weights = tf.Variable(tf.truncated_normal(weights_dim))\n",
    "    \n",
    "    # Apply Convolution\n",
    "    conv_strides = [1, conv_strides[0], conv_strides[1], 1] # (batch, height, width, depth)\n",
    "    padding = 'VALID'\n",
    "    conv_layer = tf.nn.conv2d(x_tensor, weights, conv_strides, padding)\n",
    "\n",
    "    # Add bias\n",
    "    conv_layer = tf.nn.bias_add(conv_layer, biases)\n",
    "    \n",
    "    # Apply activation function\n",
    "    conv_layer = tf.nn.relu(conv_layer)\n",
    "    \n",
    "    return conv_layer \n",
    "\n",
    "    \n",
    "def pool(conv_layer, pool_ksize, pool_strides):\n",
    "\n",
    "    filter_shape = [1, pool_ksize[0], pool_ksize[1], 1]\n",
    "    pool_strides = [1, pool_strides[0], pool_strides[1], 1]\n",
    "    padding = 'VALID'\n",
    "    \n",
    "    pool_max = tf.nn.max_pool(conv_layer, filter_shape, pool_strides, padding)\n",
    "    #pool_avg = tf.nn.avg_pool(conv_layer, filter_shape, pool_strides, padding)\n",
    "    \n",
    "    #pool_max = tf.nn.fractional_max_pool(conv_layer,  [1.0, 2.0, 2.0, 1.0])\n",
    "    #pool_avg = tf.nn.fractional_avg_pool(conv_layer,  [1.0, 2.0, 2.0, 1.0])\n",
    "    \n",
    "    #pool = tf.concat(3,[pool_max,pool_avg])\n",
    "\n",
    "    return pool_max \n",
    "\n",
    "\n",
    "def flatten(x_tensor):\n",
    "    \"\"\"\n",
    "    Flatten x_tensor to (Batch Size, Flattened Image Size)\n",
    "    : x_tensor: A tensor of size (Batch Size, ...), where ... are the image dimensions.\n",
    "    : return: A tensor of size (Batch Size, Flattened Image Size).\n",
    "    \"\"\"\n",
    "    dimensions = (x_tensor.get_shape().as_list()[1:4])\n",
    "    \n",
    "    prod = 1\n",
    "    for dimension in dimensions:\n",
    "        prod *= dimension\n",
    "    \n",
    "    x_tensor = tf.reshape(x_tensor, [-1,prod])\n",
    "    return x_tensor\n",
    "\n",
    "\n",
    "def fully_conn(x_tensor, num_outputs):\n",
    "    \"\"\"\n",
    "    Apply a fully connected layer to x_tensor using weight and bias\n",
    "    : x_tensor: A 2-D tensor where the first dimension is batch size.\n",
    "    : num_outputs: The number of output that the new tensor should be.\n",
    "    : return: A 2-D tensor where the second dimension is num_outputs.\n",
    "    \"\"\"\n",
    "    tensor_out = tf.contrib.layers.fully_connected(x_tensor, num_outputs)\n",
    "    return tensor_out\n",
    "\n",
    "\n",
    "def conv_net(x, keep_prob):\n",
    "    \"\"\"\n",
    "    Create a convolutional neural network model\n",
    "    : x: Placeholder tensor that holds image data.\n",
    "    : keep_prob: Placeholder tensor that hold dropout keep probability.\n",
    "    : return: Tensor that represents logits\n",
    "    \"\"\"\n",
    "    \n",
    "    x_tensor = x         #:param x_tensor: TensorFlow Tensor\n",
    "    conv_strides = (1,1) #:param conv_strides: Stride 2-D Tuple for convolution\n",
    "    pool_ksize = (2,2)   #:param pool_ksize: kernal size 2-D Tuple for pool\n",
    "    pool_strides = (1,1) #:param pool_strides: Stride 2-D Tuple for pool\n",
    "    conv_ksize = (3,3)\n",
    "    \n",
    "    conv_num_outputs = 5 #:param conv_num_outputs: Number of outputs for the convolutional layer   \n",
    "    x_tensor = conv2d(x_tensor, conv_num_outputs, conv_ksize, conv_strides)\n",
    "    conv_num_outputs = 7 #:param conv_num_outputs: Number of outputs for the convolutional layer   \n",
    "    x_tensor = conv2d(x_tensor, conv_num_outputs, conv_ksize, conv_strides)\n",
    "    #x_tensor = pool(x_tensor, pool_ksize, pool_strides)\n",
    "\n",
    "    #conv_num_outputs = 17 #:param conv_num_outputs: Number of outputs for the convolutional layer   \n",
    "    #x_tensor = conv2d(x_tensor, conv_num_outputs, conv_ksize, conv_strides)\n",
    "    #x_tensor = conv2d(x_tensor, conv_num_outputs, conv_ksize, conv_strides)\n",
    "    #x_tensor = pool(x_tensor, pool_ksize, pool_strides)\n",
    "    \n",
    "\n",
    "    return x_tensor\n",
    "\n",
    "    \n",
    "def fully_con_net(x_tensor, keep_prob):\n",
    "\n",
    "    x_tensor = flatten(x_tensor)\n",
    "\n",
    "    num_outputs = n_classes*4\n",
    "    x_tensor = fully_conn(x_tensor, int(num_outputs))\n",
    "    x_tensor = tf.nn.dropout(x_tensor, keep_prob)\n",
    "    num_outputs = n_classes*3\n",
    "    x_tensor = fully_conn(x_tensor, int(num_outputs))\n",
    "    x_tensor = tf.nn.dropout(x_tensor, keep_prob)\n",
    "    num_outputs = n_classes*2\n",
    "    x_tensor = tf.nn.dropout(x_tensor, keep_prob)\n",
    "    x_tensor = fully_conn(x_tensor, int(num_outputs))\n",
    "    num_outputs = n_classes\n",
    "    x_tensor = fully_conn(x_tensor, int(num_outputs))\n",
    "    \n",
    "    return x_tensor\n",
    "\n",
    "def vgg_like(x_pre):\n",
    "    # conv + pool\n",
    "    conv_ksize = (3,3)\n",
    "    conv_strides = (1,1) #:param conv_strides: Stride 2-D Tuple for convolution\n",
    "    pool_ksize = (2,2)   #:param pool_ksize: kernal size 2-D Tuple for pool\n",
    "    pool_strides = (1,1) #:param pool_strides: Stride 2-D Tuple for pool\n",
    "\n",
    "    conv_num_outputs = 9 #:param conv_num_outputs: Number of outputs for the convolutional layer   \n",
    "    c00 = conv2d(x_pre, conv_num_outputs, conv_ksize, conv_strides)\n",
    "    conv_num_outputs = 9 #:param conv_num_outputs: Number of outputs for the convolutional layer   \n",
    "    c01 = conv2d(c00, conv_num_outputs, conv_ksize, conv_strides)\n",
    "    p0  = pool(c01, pool_ksize, pool_strides)\n",
    "\n",
    "    conv_num_outputs = 9 #:param conv_num_outputs: Number of outputs for the convolutional layer   \n",
    "    c10 = conv2d(x_pre, conv_num_outputs, conv_ksize, conv_strides)\n",
    "    conv_num_outputs = 9 #:param conv_num_outputs: Number of outputs for the convolutional layer   \n",
    "    c11 = conv2d(c00, conv_num_outputs, conv_ksize, conv_strides)\n",
    "    p1  = pool(c01, pool_ksize, pool_strides)\n",
    "\n",
    "    tf_activation = p1\n",
    "\n",
    "    # pick layers\n",
    "    p1f = flatten(p1)\n",
    "    p0f = flatten(p0)\n",
    "\n",
    "    concat = tf.concat(1,[p1f,p0f])\n",
    "\n",
    "    # fully connected layers\n",
    "    num_outputs = n_classes*4\n",
    "    x_tensor = fully_conn(concat, int(num_outputs))\n",
    "    x_tensor = tf.nn.dropout(x_tensor, keep_prob)\n",
    "\n",
    "    num_outputs = n_classes\n",
    "    x_tensor = fully_conn(x_tensor, int(num_outputs))\n",
    "    logits            = fully_con_net(x_tensor, keep_prob)\n",
    "\n",
    "    return logits\n",
    "\n",
    "def LeNet(x):    \n",
    "    # Arguments used for tf.truncated_normal, randomly defines variables for the weights and biases for each layer\n",
    "    mu = 0\n",
    "    sigma = 0.1\n",
    "    \n",
    "    # SOLUTION: Layer 1: Convolutional. Input = 32x32x1. Output = 28x28x6.\n",
    "    conv1_W = tf.Variable(tf.truncated_normal(shape=(5, 5, 1, 6), mean = mu, stddev = sigma))\n",
    "    conv1_b = tf.Variable(tf.zeros(6))\n",
    "    conv1   = tf.nn.conv2d(x, conv1_W, strides=[1, 1, 1, 1], padding='VALID') + conv1_b\n",
    "\n",
    "    # SOLUTION: Activation.\n",
    "    conv1 = tf.nn.relu(conv1)\n",
    "\n",
    "    # SOLUTION: Pooling. Input = 28x28x6. Output = 14x14x6.\n",
    "    conv1 = tf.nn.max_pool(conv1, ksize=[1, 2, 2, 1], strides=[1, 2, 2, 1], padding='VALID')\n",
    "\n",
    "    # SOLUTION: Layer 2: Convolutional. Output = 10x10x16.\n",
    "    conv2_W = tf.Variable(tf.truncated_normal(shape=(5, 5, 6, 16), mean = mu, stddev = sigma))\n",
    "    conv2_b = tf.Variable(tf.zeros(16))\n",
    "    conv2   = tf.nn.conv2d(conv1, conv2_W, strides=[1, 1, 1, 1], padding='VALID') + conv2_b\n",
    "    \n",
    "    # SOLUTION: Activation.\n",
    "    conv2 = tf.nn.relu(conv2)\n",
    "\n",
    "    # SOLUTION: Pooling. Input = 10x10x16. Output = 5x5x16.\n",
    "    conv2 = tf.nn.max_pool(conv2, ksize=[1, 2, 2, 1], strides=[1, 2, 2, 1], padding='VALID')\n",
    "    \n",
    "    tf_activation = conv2\n",
    "\n",
    "    # SOLUTION: Flatten. Input = 5x5x16. Output = 400.\n",
    "    fc0   = flatten(conv2)\n",
    "    \n",
    "    # SOLUTION: Layer 3: Fully Connected. Input = 400. Output = 120.\n",
    "    fc1_W = tf.Variable(tf.truncated_normal(shape=(400, 120), mean = mu, stddev = sigma))\n",
    "    fc1_b = tf.Variable(tf.zeros(120))\n",
    "    fc1   = tf.matmul(fc0, fc1_W) + fc1_b\n",
    "    \n",
    "    # SOLUTION: Activation.\n",
    "    fc1    = tf.nn.relu(fc1)\n",
    "\n",
    "    # SOLUTION: Layer 4: Fully Connected. Input = 120. Output = 84.\n",
    "    fc2_W  = tf.Variable(tf.truncated_normal(shape=(120, 84), mean = mu, stddev = sigma))\n",
    "    fc2_b  = tf.Variable(tf.zeros(84))\n",
    "    fc2    = tf.matmul(fc1, fc2_W) + fc2_b\n",
    "    \n",
    "    # SOLUTION: Activation.\n",
    "    fc2    = tf.nn.relu(fc2)\n",
    "\n",
    "    # SOLUTION: Layer 5: Fully Connected. Input = 84. Output = 10.\n",
    "    fc3_W  = tf.Variable(tf.truncated_normal(shape=(84, n_classes), mean = mu, stddev = sigma))\n",
    "    fc3_b  = tf.Variable(tf.zeros(n_classes))\n",
    "    logits = tf.matmul(fc2, fc3_W) + fc3_b\n",
    "    \n",
    "    return logits, tf_activation\n",
    "\n",
    "def LeNet42(x):    \n",
    "    # Arguments used for tf.truncated_normal, randomly defines variables for the weights and biases for each layer\n",
    "    mu = 0\n",
    "    sigma = 1/16\n",
    "    \n",
    "    # Layer 1: Convolutional. Input = 32x32x1. Output = 28x28x6.\n",
    "    depth_1 = 6\n",
    "    conv1_W = tf.Variable(tf.truncated_normal(shape=(5, 5, 1, depth_1), mean = mu, stddev = sigma))\n",
    "    conv1_b = tf.Variable(tf.zeros(depth_1))\n",
    "    conv1   = tf.nn.conv2d(x, conv1_W, strides=[1, 1, 1, 1], padding='VALID') + conv1_b\n",
    "\n",
    "    # Activation.\n",
    "    conv1 = tf.nn.relu(conv1)\n",
    "\n",
    "    # Pooling. Input = 28x28x6. Output = 14x14x6.\n",
    "    conv1 = tf.nn.max_pool(conv1, ksize=[1, 2, 2, 1], strides=[1, 2, 2, 1], padding='VALID')\n",
    "\n",
    "    # Layer 2: Convolutional. Output = 10x10x16.\n",
    "    depth_2 = 42\n",
    "    conv2_W = tf.Variable(tf.truncated_normal(shape=(5, 5, depth_1, depth_2), mean = mu, stddev = sigma))\n",
    "    conv2_b = tf.Variable(tf.zeros(depth_2))\n",
    "    conv2   = tf.nn.conv2d(conv1, conv2_W, strides=[1, 1, 1, 1], padding='VALID') + conv2_b\n",
    "    \n",
    "    # Activation.\n",
    "    conv2 = tf.nn.relu(conv2)\n",
    "\n",
    "    # Pooling. Input = 10x10x16. Output = 5x5x16.\n",
    "    conv2 = tf.nn.max_pool(conv2, ksize=[1, 2, 2, 1], strides=[1, 2, 2, 1], padding='VALID')\n",
    "    \n",
    "    tf_activation = conv2\n",
    "\n",
    "    # Flatten. Input = 5x5x16. Output = 400.\n",
    "    fc0   = flatten(conv2)\n",
    "    \n",
    "    # Layer 3: Fully Connected.\n",
    "    depth_in  = int(fc0.get_shape()[1])\n",
    "    depth_out = int(depth_in * 120/400)\n",
    "    fc1_W = tf.Variable(tf.truncated_normal(shape=(depth_in, depth_out), mean = mu, stddev = sigma))\n",
    "    fc1_b = tf.Variable(tf.zeros(depth_out))\n",
    "    fc1   = tf.matmul(fc0, fc1_W) + fc1_b\n",
    "    \n",
    "    # Activation.\n",
    "    fc1    = tf.nn.relu(fc1)\n",
    "\n",
    "    # Layer 4: Fully Connected.\n",
    "    depth_in  = int(fc1.get_shape()[1])\n",
    "    depth_out = int(depth_in * 84/120)\n",
    "    fc2_W  = tf.Variable(tf.truncated_normal(shape=(depth_in, depth_out), mean = mu, stddev = sigma))\n",
    "    fc2_b  = tf.Variable(tf.zeros(depth_out))\n",
    "    fc2    = tf.matmul(fc1, fc2_W) + fc2_b\n",
    "    \n",
    "    # Activation.\n",
    "    fc2    = tf.nn.relu(fc2)\n",
    "\n",
    "    # Layer 5: Fully Connected.\n",
    "    depth_in  = int(fc2.get_shape()[1])\n",
    "    depth_out = n_classes\n",
    "    fc3_W  = tf.Variable(tf.truncated_normal(shape=(depth_in, depth_out), mean = mu, stddev = sigma))\n",
    "    fc3_b  = tf.Variable(tf.zeros(depth_out))\n",
    "    fc3    = tf.matmul(fc2, fc3_W) + fc3_b\n",
    "    \n",
    "    # Activation.\n",
    "    #fc3    = tf.nn.relu(fc3)\n",
    "    \n",
    "    # Layer 6: Fully Connected.\n",
    "    #depth_in  = int(fc3.get_shape()[1])\n",
    "    #fc4_W  = tf.Variable(tf.truncated_normal(shape=(depth_in, n_classes), mean = mu, stddev = sigma))\n",
    "    #fc4_b  = tf.Variable(tf.zeros(n_classes))\n",
    "    #logits = tf.matmul(fc3, fc4_W) + fc4_b\n",
    "    \n",
    "    logits = fc3\n",
    "    \n",
    "    return logits, tf_activation\n",
    "\n",
    "\n",
    "##############################\n",
    "## Build the Neural Network ##\n",
    "##############################\n",
    "\n",
    "# Remove previous weights, bias, inputs, etc..\n",
    "tf.reset_default_graph()\n",
    "\n",
    "# Inputs\n",
    "image_shape = X_train.shape[1:]\n",
    "\n",
    "x = tf.placeholder(tf.float32, shape=[None, image_shape[0], image_shape[1], image_shape[2]],name = 'x')\n",
    "y = tf.placeholder(tf.float32, shape=[None, n_classes],name = 'y')\n",
    "keep_prob = tf.placeholder(tf.float32, name='keep_prob')\n",
    "\n",
    "# Model\n",
    "\n",
    "x_pre = x#tf.nn.dropout(x, keep_prob) #:param x_tensor: TensorFlow Tensor\n",
    "x_pre = tf.nn.local_response_normalization(x_pre)\n",
    "\n",
    "logits, tf_activation = LeNet42(x_pre)\n",
    "\n",
    "# Name logits Tensor, so that is can be loaded from disk after training\n",
    "logits = tf.identity(logits, name='logits')\n",
    "    \n",
    "# Loss and Optimizer\n",
    "cost = tf.reduce_mean(tf.nn.softmax_cross_entropy_with_logits(logits=logits, labels=y))\n",
    "optimizer = tf.train.AdamOptimizer().minimize(cost)\n",
    "#optimizer = tf.train.RMSPropOptimizer(0.001).minimize(cost)\n",
    "\n",
    "\n",
    "# Accuracy\n",
    "correct_pred = tf.equal(tf.argmax(logits, 1), tf.argmax(y, 1))\n",
    "accuracy = tf.reduce_mean(tf.cast(correct_pred, tf.float32), name='accuracy')\n",
    "\n"
   ]
  },
  {
   "cell_type": "markdown",
   "metadata": {
    "deletable": true,
    "editable": true
   },
   "source": [
    "### Train, Validate and Test the Model"
   ]
  },
  {
   "cell_type": "markdown",
   "metadata": {
    "deletable": true,
    "editable": true
   },
   "source": [
    "A validation set can be used to assess how well the model is performing. A low accuracy on the training and validation\n",
    "sets imply underfitting. A high accuracy on the training set but low accuracy on the validation set implies overfitting."
   ]
  },
  {
   "cell_type": "code",
   "execution_count": null,
   "metadata": {
    "collapsed": false,
    "deletable": true,
    "editable": true
   },
   "outputs": [
    {
     "name": "stdout",
     "output_type": "stream",
     "text": [
      "Training...\n",
      "Initialised Model...\n",
      "Epoch    1, Batch      0: Loss:   3.74818 Accuracy:   0.03800 Validation: Loss:   3.74991 Accuracy:   0.03175\n",
      "Model saved\n",
      "Epoch    1, Batch      5: Loss:   3.58210 Accuracy:   0.06200 Validation: Loss:   3.62999 Accuracy:   0.04762\n",
      "Model saved\n",
      "Epoch    1, Batch     10: Loss:   3.52114 Accuracy:   0.06800 Validation: Loss:   3.63628 Accuracy:   0.05442\n",
      "Model saved\n",
      "Epoch    1, Batch     15: Loss:   3.49231 Accuracy:   0.06800 Validation: Loss:   3.55115 Accuracy:   0.05782\n",
      "Model saved\n",
      "Epoch    1, Batch     20: Loss:   3.44274 Accuracy:   0.06100 Validation: Loss:   3.52090 Accuracy:   0.05465\n",
      "Epoch    1, Batch     25: Loss:   3.45666 Accuracy:   0.08700 Validation: Loss:   3.51604 Accuracy:   0.07596\n",
      "Model saved\n",
      "Epoch    1, Batch     30: Loss:   3.38529 Accuracy:   0.12100 Validation: Loss:   3.45158 Accuracy:   0.12653\n",
      "Model saved\n",
      "Epoch    2, Batch      0: Loss:   3.28966 Accuracy:   0.17100 Validation: Loss:   3.38586 Accuracy:   0.14512\n",
      "Model saved\n",
      "Epoch    2, Batch      5: Loss:   3.19598 Accuracy:   0.19400 Validation: Loss:   3.31309 Accuracy:   0.17143\n",
      "Model saved\n",
      "Epoch    2, Batch     10: Loss:   3.03996 Accuracy:   0.20600 Validation: Loss:   3.19993 Accuracy:   0.18322\n",
      "Model saved\n",
      "Epoch    2, Batch     15: Loss:   2.86185 Accuracy:   0.27400 Validation: Loss:   3.04452 Accuracy:   0.22585\n",
      "Model saved\n",
      "Epoch    2, Batch     20: Loss:   2.69940 Accuracy:   0.32000 Validation: Loss:   2.89046 Accuracy:   0.27211\n",
      "Model saved\n",
      "Epoch    2, Batch     25: Loss:   2.54945 Accuracy:   0.34500 Validation: Loss:   2.73830 Accuracy:   0.29365\n",
      "Model saved\n",
      "Epoch    2, Batch     30: Loss:   2.37307 Accuracy:   0.39800 Validation: Loss:   2.56052 Accuracy:   0.32948\n",
      "Model saved\n",
      "Epoch    3, Batch      0: Loss:   2.16877 Accuracy:   0.39300 Validation: Loss:   2.41724 Accuracy:   0.33560\n",
      "Model saved\n",
      "Epoch    3, Batch      5: Loss:   2.03141 Accuracy:   0.43700 Validation: Loss:   2.22978 Accuracy:   0.38912\n",
      "Model saved\n",
      "Epoch    3, Batch     10: Loss:   1.85872 Accuracy:   0.46200 Validation: Loss:   2.10230 Accuracy:   0.38934\n",
      "Model saved\n",
      "Epoch    3, Batch     15: Loss:   1.75739 Accuracy:   0.49700 Validation: Loss:   1.96148 Accuracy:   0.45850\n",
      "Model saved\n",
      "Epoch    3, Batch     20: Loss:   1.54595 Accuracy:   0.55900 Validation: Loss:   1.78120 Accuracy:   0.50023\n",
      "Model saved\n",
      "Epoch    3, Batch     25: Loss:   1.45522 Accuracy:   0.60800 Validation: Loss:   1.70877 Accuracy:   0.52449\n",
      "Model saved\n",
      "Epoch    3, Batch     30: Loss:   1.28551 Accuracy:   0.65400 Validation: Loss:   1.56918 Accuracy:   0.58254\n",
      "Model saved\n",
      "Epoch    4, Batch      0: Loss:   1.21844 Accuracy:   0.67000 Validation: Loss:   1.47413 Accuracy:   0.57846\n",
      "Epoch    4, Batch      5: Loss:   1.14566 Accuracy:   0.68600 Validation: Loss:   1.37071 Accuracy:   0.62948\n",
      "Model saved\n",
      "Epoch    4, Batch     10: Loss:   1.08070 Accuracy:   0.67900 Validation: Loss:   1.31456 Accuracy:   0.62245\n",
      "Epoch    4, Batch     15: Loss:   1.07509 Accuracy:   0.70400 Validation: Loss:   1.21270 Accuracy:   0.66440\n",
      "Model saved\n",
      "Epoch    4, Batch     20: Loss:   0.95003 Accuracy:   0.73400 Validation: Loss:   1.16435 Accuracy:   0.66757\n",
      "Model saved\n",
      "Epoch    4, Batch     25: Loss:   0.88843 Accuracy:   0.75300 Validation: Loss:   1.15499 Accuracy:   0.67234\n",
      "Model saved\n",
      "Epoch    4, Batch     30: Loss:   0.84397 Accuracy:   0.77700 Validation: Loss:   1.07847 Accuracy:   0.70113\n",
      "Model saved\n",
      "Epoch    5, Batch      0: Loss:   0.89272 Accuracy:   0.76200 Validation: Loss:   1.08287 Accuracy:   0.69274\n",
      "Epoch    5, Batch      5: Loss:   0.82275 Accuracy:   0.77900 Validation: Loss:   0.97816 Accuracy:   0.72698\n",
      "Model saved\n",
      "Epoch    5, Batch     10: Loss:   0.78895 Accuracy:   0.79000 Validation: Loss:   0.96878 Accuracy:   0.72993\n",
      "Model saved\n",
      "Epoch    5, Batch     15: Loss:   0.77829 Accuracy:   0.79200 Validation: Loss:   0.97989 Accuracy:   0.72608\n",
      "Epoch    5, Batch     20: Loss:   0.75759 Accuracy:   0.80800 Validation: Loss:   0.92889 Accuracy:   0.74558\n",
      "Model saved\n",
      "Epoch    5, Batch     25: Loss:   0.71234 Accuracy:   0.80400 Validation: Loss:   0.90284 Accuracy:   0.74467\n",
      "Epoch    5, Batch     30: Loss:   0.72936 Accuracy:   0.81300 Validation: Loss:   0.86864 Accuracy:   0.76054\n",
      "Model saved\n",
      "Epoch    6, Batch      0: Loss:   0.67070 Accuracy:   0.82600 Validation: Loss:   0.84648 Accuracy:   0.76190\n",
      "Model saved\n",
      "Epoch    6, Batch      5: Loss:   0.58161 Accuracy:   0.84100 Validation: Loss:   0.83672 Accuracy:   0.76349\n",
      "Model saved\n",
      "Epoch    6, Batch     10: Loss:   0.55395 Accuracy:   0.83300 Validation: Loss:   0.84640 Accuracy:   0.76644\n",
      "Model saved\n",
      "Epoch    6, Batch     15: Loss:   0.57645 Accuracy:   0.83100 Validation: Loss:   0.85881 Accuracy:   0.74898\n",
      "Epoch    6, Batch     20: Loss:   0.57903 Accuracy:   0.84500 Validation: Loss:   0.80569 Accuracy:   0.77370\n",
      "Model saved\n",
      "Epoch    6, Batch     25: Loss:   0.54839 Accuracy:   0.85400 Validation: Loss:   0.76359 Accuracy:   0.79683\n",
      "Model saved\n",
      "Epoch    6, Batch     30: Loss:   0.48298 Accuracy:   0.88100 Validation: Loss:   0.74786 Accuracy:   0.79524\n",
      "Epoch    7, Batch      0: Loss:   0.48716 Accuracy:   0.86100 Validation: Loss:   0.72739 Accuracy:   0.78730\n",
      "Epoch    7, Batch      5: Loss:   0.45905 Accuracy:   0.86800 Validation: Loss:   0.71783 Accuracy:   0.82086\n",
      "Model saved\n",
      "Epoch    7, Batch     10: Loss:   0.46146 Accuracy:   0.88600 Validation: Loss:   0.72823 Accuracy:   0.79206\n",
      "Epoch    7, Batch     15: Loss:   0.47625 Accuracy:   0.87200 Validation: Loss:   0.73240 Accuracy:   0.79592\n",
      "Epoch    7, Batch     20: Loss:   0.45834 Accuracy:   0.87800 Validation: Loss:   0.70297 Accuracy:   0.81179\n",
      "Epoch    7, Batch     25: Loss:   0.36325 Accuracy:   0.90300 Validation: Loss:   0.69610 Accuracy:   0.81769\n",
      "Epoch    7, Batch     30: Loss:   0.52234 Accuracy:   0.87400 Validation: Loss:   0.68262 Accuracy:   0.80952\n",
      "Epoch    8, Batch      0: Loss:   0.46010 Accuracy:   0.87800 Validation: Loss:   0.66666 Accuracy:   0.81837\n",
      "Epoch    8, Batch      5: Loss:   0.34632 Accuracy:   0.90800 Validation: Loss:   0.65308 Accuracy:   0.82313\n",
      "Model saved\n",
      "Epoch    8, Batch     10: Loss:   0.34616 Accuracy:   0.91000 Validation: Loss:   0.64254 Accuracy:   0.82540\n",
      "Model saved\n",
      "Epoch    8, Batch     15: Loss:   0.40091 Accuracy:   0.89400 Validation: Loss:   0.71337 Accuracy:   0.80884\n",
      "Epoch    8, Batch     20: Loss:   0.37286 Accuracy:   0.90300 Validation: Loss:   0.65790 Accuracy:   0.81927\n",
      "Epoch    8, Batch     25: Loss:   0.38772 Accuracy:   0.90600 Validation: Loss:   0.65395 Accuracy:   0.83107\n",
      "Model saved\n",
      "Epoch    8, Batch     30: Loss:   0.32656 Accuracy:   0.91200 Validation: Loss:   0.64323 Accuracy:   0.82404\n",
      "Epoch    9, Batch      0: Loss:   0.31751 Accuracy:   0.91800 Validation: Loss:   0.61766 Accuracy:   0.83469\n",
      "Model saved\n",
      "Epoch    9, Batch      5: Loss:   0.29373 Accuracy:   0.93200 Validation: Loss:   0.61236 Accuracy:   0.84286\n",
      "Model saved\n",
      "Epoch    9, Batch     10: Loss:   0.34826 Accuracy:   0.91500 Validation: Loss:   0.60502 Accuracy:   0.83923\n",
      "Epoch    9, Batch     15: Loss:   0.29704 Accuracy:   0.91100 Validation: Loss:   0.59228 Accuracy:   0.84739\n",
      "Model saved\n",
      "Epoch    9, Batch     20: Loss:   0.35011 Accuracy:   0.92000 Validation: Loss:   0.57503 Accuracy:   0.84785\n",
      "Model saved\n",
      "Epoch    9, Batch     25: Loss:   0.29048 Accuracy:   0.92900 Validation: Loss:   0.63443 Accuracy:   0.82834\n",
      "Epoch    9, Batch     30: Loss:   0.29952 Accuracy:   0.91700 Validation: Loss:   0.61722 Accuracy:   0.84104\n",
      "Epoch   10, Batch      0: Loss:   0.32556 Accuracy:   0.91500 Validation: Loss:   0.57817 Accuracy:   0.84512\n",
      "Epoch   10, Batch      5: Loss:   0.39082 Accuracy:   0.90700 Validation: Loss:   0.56890 Accuracy:   0.84444\n",
      "Epoch   10, Batch     10: Loss:   0.29816 Accuracy:   0.93000 Validation: Loss:   0.54717 Accuracy:   0.86190\n",
      "Model saved\n",
      "Epoch   10, Batch     15: Loss:   0.26926 Accuracy:   0.93700 Validation: Loss:   0.57440 Accuracy:   0.85692\n",
      "Epoch   10, Batch     20: Loss:   0.26583 Accuracy:   0.94500 Validation: Loss:   0.57354 Accuracy:   0.85011\n",
      "Epoch   10, Batch     25: Loss:   0.25539 Accuracy:   0.93400 Validation: Loss:   0.55132 Accuracy:   0.85828\n",
      "Epoch   10, Batch     30: Loss:   0.23154 Accuracy:   0.94200 Validation: Loss:   0.56566 Accuracy:   0.84989\n",
      "Epoch   11, Batch      0: Loss:   0.20585 Accuracy:   0.95400 Validation: Loss:   0.55321 Accuracy:   0.85782\n",
      "Epoch   11, Batch      5: Loss:   0.25342 Accuracy:   0.93700 Validation: Loss:   0.56737 Accuracy:   0.85125\n",
      "Epoch   11, Batch     10: Loss:   0.24849 Accuracy:   0.94300 Validation: Loss:   0.54186 Accuracy:   0.86961\n",
      "Model saved\n",
      "Epoch   11, Batch     15: Loss:   0.22220 Accuracy:   0.94000 Validation: Loss:   0.54970 Accuracy:   0.86077\n",
      "Epoch   11, Batch     20: Loss:   0.24798 Accuracy:   0.93900 Validation: Loss:   0.56016 Accuracy:   0.85397\n",
      "Epoch   11, Batch     25: Loss:   0.24176 Accuracy:   0.94200 Validation: Loss:   0.56620 Accuracy:   0.86213\n",
      "Epoch   11, Batch     30: Loss:   0.21795 Accuracy:   0.94500 Validation: Loss:   0.54124 Accuracy:   0.85828\n",
      "Epoch   12, Batch      0: Loss:   0.19794 Accuracy:   0.95500 Validation: Loss:   0.54300 Accuracy:   0.85556\n",
      "Epoch   12, Batch      5: Loss:   0.21308 Accuracy:   0.94300 Validation: Loss:   0.50886 Accuracy:   0.87370\n",
      "Model saved\n",
      "Epoch   12, Batch     10: Loss:   0.18781 Accuracy:   0.95700 Validation: Loss:   0.50771 Accuracy:   0.87007\n",
      "Epoch   12, Batch     15: Loss:   0.23432 Accuracy:   0.94900 Validation: Loss:   0.49930 Accuracy:   0.87619\n",
      "Model saved\n",
      "Epoch   12, Batch     20: Loss:   0.17160 Accuracy:   0.95900 Validation: Loss:   0.53083 Accuracy:   0.86576\n",
      "Epoch   12, Batch     25: Loss:   0.17676 Accuracy:   0.95400 Validation: Loss:   0.50159 Accuracy:   0.87732\n",
      "Model saved\n",
      "Epoch   12, Batch     30: Loss:   0.18910 Accuracy:   0.95900 Validation: Loss:   0.53816 Accuracy:   0.85918\n",
      "Epoch   13, Batch      0: Loss:   0.16888 Accuracy:   0.96400 Validation: Loss:   0.48971 Accuracy:   0.88027\n",
      "Model saved\n",
      "Epoch   13, Batch      5: Loss:   0.19052 Accuracy:   0.95300 Validation: Loss:   0.51727 Accuracy:   0.87778\n",
      "Epoch   13, Batch     10: Loss:   0.20031 Accuracy:   0.95100 Validation: Loss:   0.50276 Accuracy:   0.87574\n",
      "Epoch   13, Batch     15: Loss:   0.15302 Accuracy:   0.96600 Validation: Loss:   0.51210 Accuracy:   0.86621\n",
      "Epoch   13, Batch     20: Loss:   0.16473 Accuracy:   0.95400 Validation: Loss:   0.51303 Accuracy:   0.86871\n",
      "Epoch   13, Batch     25: Loss:   0.22604 Accuracy:   0.94400 Validation: Loss:   0.49058 Accuracy:   0.87642\n",
      "Epoch   13, Batch     30: Loss:   0.20002 Accuracy:   0.95300 Validation: Loss:   0.54038 Accuracy:   0.85850\n",
      "Epoch   14, Batch      0: Loss:   0.20557 Accuracy:   0.95600 Validation: Loss:   0.54908 Accuracy:   0.85805\n",
      "Epoch   14, Batch      5: Loss:   0.17738 Accuracy:   0.95700 Validation: Loss:   0.52911 Accuracy:   0.86349\n",
      "Epoch   14, Batch     10: Loss:   0.16255 Accuracy:   0.96300 Validation: Loss:   0.49969 Accuracy:   0.87642\n",
      "Epoch   14, Batch     15: Loss:   0.17394 Accuracy:   0.95200 Validation: Loss:   0.50755 Accuracy:   0.87483\n",
      "Epoch   14, Batch     20: Loss:   0.17753 Accuracy:   0.95900 Validation: Loss:   0.51204 Accuracy:   0.87029\n",
      "Epoch   14, Batch     25: Loss:   0.17217 Accuracy:   0.95600 Validation: Loss:   0.49225 Accuracy:   0.87868\n",
      "Epoch   14, Batch     30: Loss:   0.18816 Accuracy:   0.95800 Validation: Loss:   0.49158 Accuracy:   0.88367\n",
      "Model saved\n",
      "Epoch   15, Batch      0: Loss:   0.14563 Accuracy:   0.96900 Validation: Loss:   0.52508 Accuracy:   0.86644\n",
      "Epoch   15, Batch      5: Loss:   0.23765 Accuracy:   0.94900 Validation: Loss:   0.52448 Accuracy:   0.86939\n",
      "Epoch   15, Batch     10: Loss:   0.19221 Accuracy:   0.95800 Validation: Loss:   0.52449 Accuracy:   0.86757\n",
      "Epoch   15, Batch     15: Loss:   0.15399 Accuracy:   0.96100 Validation: Loss:   0.50965 Accuracy:   0.87052\n",
      "Epoch   15, Batch     20: Loss:   0.14767 Accuracy:   0.96400 Validation: Loss:   0.50311 Accuracy:   0.85964\n",
      "Epoch   15, Batch     25: Loss:   0.16561 Accuracy:   0.96400 Validation: Loss:   0.49604 Accuracy:   0.86531\n",
      "Epoch   15, Batch     30: Loss:   0.15118 Accuracy:   0.96800 Validation: Loss:   0.48444 Accuracy:   0.87347\n",
      "Epoch   16, Batch      0: Loss:   0.13710 Accuracy:   0.97100 Validation: Loss:   0.48157 Accuracy:   0.88322\n",
      "Epoch   16, Batch      5: Loss:   0.13530 Accuracy:   0.96700 Validation: Loss:   0.49119 Accuracy:   0.87574\n",
      "Epoch   16, Batch     10: Loss:   0.14684 Accuracy:   0.95900 Validation: Loss:   0.49251 Accuracy:   0.86848\n",
      "Epoch   16, Batch     15: Loss:   0.16882 Accuracy:   0.95600 Validation: Loss:   0.49107 Accuracy:   0.86871\n",
      "Epoch   16, Batch     20: Loss:   0.14295 Accuracy:   0.96900 Validation: Loss:   0.46646 Accuracy:   0.88163\n",
      "Epoch   16, Batch     25: Loss:   0.12585 Accuracy:   0.96600 Validation: Loss:   0.47070 Accuracy:   0.88254\n",
      "Epoch   16, Batch     30: Loss:   0.14430 Accuracy:   0.95600 Validation: Loss:   0.53308 Accuracy:   0.86327\n",
      "Epoch   17, Batch      0: Loss:   0.12494 Accuracy:   0.97200 Validation: Loss:   0.48094 Accuracy:   0.88027\n",
      "Epoch   17, Batch      5: Loss:   0.15451 Accuracy:   0.96300 Validation: Loss:   0.46141 Accuracy:   0.88753\n",
      "Model saved\n",
      "Epoch   17, Batch     10: Loss:   0.11322 Accuracy:   0.97500 Validation: Loss:   0.45949 Accuracy:   0.88889\n",
      "Model saved\n",
      "Epoch   17, Batch     15: Loss:   0.09094 Accuracy:   0.98100 Validation: Loss:   0.44300 Accuracy:   0.88413\n",
      "Epoch   17, Batch     20: Loss:   0.11661 Accuracy:   0.97600 Validation: Loss:   0.47114 Accuracy:   0.87188\n",
      "Epoch   17, Batch     25: Loss:   0.09698 Accuracy:   0.98400 Validation: Loss:   0.45890 Accuracy:   0.88798\n",
      "Epoch   17, Batch     30: Loss:   0.09814 Accuracy:   0.97400 Validation: Loss:   0.49480 Accuracy:   0.88095\n",
      "Epoch   18, Batch      0: Loss:   0.12041 Accuracy:   0.97400 Validation: Loss:   0.46211 Accuracy:   0.88209\n",
      "Epoch   18, Batch      5: Loss:   0.11154 Accuracy:   0.97500 Validation: Loss:   0.47367 Accuracy:   0.87574\n",
      "Epoch   18, Batch     10: Loss:   0.14173 Accuracy:   0.96900 Validation: Loss:   0.46693 Accuracy:   0.88073\n",
      "Epoch   18, Batch     15: Loss:   0.11706 Accuracy:   0.97100 Validation: Loss:   0.49238 Accuracy:   0.87778\n"
     ]
    }
   ],
   "source": [
    "### Train your model here.\n",
    "### Calculate and report the accuracy on the training and validation set.\n",
    "### Once a final model architecture is selected, \n",
    "### the accuracy on the test set should be calculated and reported as well.\n",
    "### Feel free to use as many code cells as needed.\n",
    "\n",
    "def train_neural_network(session, optimizer, keep_probability, feature_batch, label_batch):\n",
    "    \"\"\"\n",
    "    Optimize the session on a batch of images and labels\n",
    "    : session: Current TensorFlow session\n",
    "    : optimizer: TensorFlow optimizer function\n",
    "    : keep_probability: keep probability\n",
    "    : feature_batch: Batch of Numpy image data\n",
    "    : label_batch: Batch of Numpy label data\n",
    "    \"\"\"\n",
    "    \n",
    "    #x = neural_net_image_input((32, 32, 3))\n",
    "    #y = neural_net_label_input(10)\n",
    "    #keep_prob = neural_net_keep_prob_input()\n",
    "    \n",
    "    #print(label_batch)\n",
    "    config=tf.ConfigProto(#allow_soft_placement=True,\n",
    "                          #log_device_placement=True,\n",
    "                         # device_count = {'GPU': 8}\n",
    "         )\n",
    "    sess = tf.Session(config=config)\n",
    "    \n",
    "    feed_dict={keep_prob:keep_probability,x:feature_batch,y:label_batch}\n",
    "    \n",
    "    #print(feed_dict)\n",
    "\n",
    "    session.run(optimizer,feed_dict=feed_dict)\n",
    "    \n",
    "def print_stats(session, feature_batch, label_batch, cost, accuracy):\n",
    "    \"\"\"\n",
    "    Print information about loss and validation accuracy\n",
    "    : session: Current TensorFlow session\n",
    "    : feature_batch: Batch of Numpy image data\n",
    "    : label_batch: Batch of Numpy label data\n",
    "    : cost: TensorFlow cost function\n",
    "    : accuracy: TensorFlow accuracy function\n",
    "    \"\"\"   \n",
    "    feed_dict={keep_prob:1.,x:feature_batch,y:label_batch}\n",
    "    \n",
    "    # Should this be done on validation data?\n",
    "    # Calculate batch loss and accuracy\n",
    "    loss = session.run(cost,feed_dict=feed_dict)\n",
    "    valid_acc = sess.run(accuracy,feed_dict=feed_dict)\n",
    "    #print('Loss: {0:9.5f} Accuracy: {1:9.5f}'.format(loss,valid_acc))\n",
    "    return loss, valid_acc\n",
    "    \n",
    "def get_next_batch(batches, batch_size = 64):\n",
    "    n_batches = len(batches)//batch_size\n",
    "    for idx in range(0,n_batches,batch_size):\n",
    "        batch = batches[idx:idx+batch_size,:,:,:]\n",
    "        yield [x,y]\n",
    "       \n",
    "# Parameters\n",
    "epochs = 100  # 1000 @ 128 => 3430 sec / ~1h\n",
    "batch_size = 1000\n",
    "keep_probability = 0.5\n",
    "\n",
    "saved_acc = .0\n",
    "save_model_path = './'\n",
    "\n",
    "saver = tf.train.Saver()\n",
    "\n",
    "import time\n",
    "start = time.time()\n",
    "print('Training...')\n",
    "with tf.Session() as sess:\n",
    "    # Initializing the variables\n",
    "    try:\n",
    "        saver.restore(sess, save_model_path)\n",
    "        print('Restored Model.')\n",
    "    except:\n",
    "        sess.run(tf.global_variables_initializer())\n",
    "        print('Initialised Model...')\n",
    "    \n",
    "    # Training cycle\n",
    "    for epoch in range(epochs):\n",
    "        # Loop over all batches \n",
    "        for idx in range(0,int(len(X_train)/batch_size)):\n",
    "            n_batches = len(X_train)//batch_size\n",
    "            batch_idx =  ((np.random.random(batch_size)*X_train.shape[0])).astype(int)\n",
    "            batch_features = X_train[batch_idx,:,:,:]\n",
    "            batch_labels   = y_train[batch_idx]\n",
    "            train_neural_network(sess, optimizer, keep_probability, batch_features, batch_labels)\n",
    "            \n",
    "            if idx % 5 == 0:\n",
    "                loss, acc = print_stats(sess, batch_features, batch_labels, cost, accuracy)\n",
    "                loss_valid, acc_valid = print_stats(sess, X_valid, y_valid, cost, accuracy)\n",
    "                print('Epoch {:>4}, Batch {:>6}: Loss: {:9.5f} Accuracy: {:9.5f} Validation: Loss: {:9.5f} Accuracy: {:9.5f}'.format(\n",
    "                    epoch + 1, idx,loss,acc,loss_valid, acc_valid))\n",
    "                \n",
    "            if acc_valid > saved_acc:\n",
    "                try:\n",
    "                    save_path = saver.save(sess, save_model_path)\n",
    "                    saved_acc = acc_valid\n",
    "                    print('Model saved')\n",
    "                except:\n",
    "                    print('Model saving failed')\n",
    "\n",
    "        #if acc_valid > 0.95:\n",
    "        #   break\n",
    "    \n",
    "print('Training time : {}'.format(time.time() - start))\n"
   ]
  },
  {
   "cell_type": "markdown",
   "metadata": {
    "deletable": true,
    "editable": true
   },
   "source": [
    "---\n",
    "\n",
    "## Step 3: Test a Model on New Images\n",
    "\n",
    "To give yourself more insight into how your model is working, download at least five pictures of German traffic signs from the web and use your model to predict the traffic sign type.\n",
    "\n",
    "You may find `signnames.csv` useful as it contains mappings from the class id (integer) to the actual sign name."
   ]
  },
  {
   "cell_type": "markdown",
   "metadata": {
    "deletable": true,
    "editable": true
   },
   "source": [
    "### Load and Output the Images"
   ]
  },
  {
   "cell_type": "code",
   "execution_count": null,
   "metadata": {
    "collapsed": false,
    "deletable": true,
    "editable": true
   },
   "outputs": [],
   "source": [
    "### Load the images and plot them here.\n",
    "### Feel free to use as many code cells as needed.\n",
    "visualise_dataset(X_test[:,:,:,3:6],y_test)       "
   ]
  },
  {
   "cell_type": "markdown",
   "metadata": {
    "deletable": true,
    "editable": true
   },
   "source": [
    "### Predict the Sign Type for Each Image"
   ]
  },
  {
   "cell_type": "code",
   "execution_count": null,
   "metadata": {
    "collapsed": false,
    "deletable": true,
    "editable": true
   },
   "outputs": [],
   "source": [
    "save_model_path = './'\n",
    "n_samples = 12\n",
    "top_n_predictions = 5\n",
    "\n",
    "import random\n",
    "import pandas as pd\n",
    "from sklearn.preprocessing import LabelBinarizer\n",
    "\n",
    "def _load_label_names():\n",
    "    \"\"\"\n",
    "    Load the label names from file\n",
    "    \"\"\"\n",
    "    df = pd.read_csv('./signnames.csv')\n",
    "    return df['SignName'].values\n",
    "\n",
    "def display_image_predictions(features, labels, predictions,n_samples,top_n_predictions):\n",
    "    n_classes = 43\n",
    "    label_names = _load_label_names()\n",
    "    label_binarizer = LabelBinarizer()\n",
    "    label_binarizer.fit(range(n_classes))\n",
    "    label_ids = label_binarizer.inverse_transform(np.array(labels))\n",
    "\n",
    "    fig, axies = plt.subplots(nrows=n_samples, ncols=2)\n",
    "    #fig.tight_layout()\n",
    "    #fig.suptitle('Softmax Predictions', fontsize=20, y=1.1)\n",
    "    fig.suptitle('Softmax Predictions', fontsize=44)\n",
    "    fig.set_size_inches(22, n_samples*2)\n",
    "    \n",
    "    n_predictions = top_n_predictions  ### Check this later, computer is busy\n",
    "    margin = 0.05\n",
    "    ind = np.arange(n_predictions)\n",
    "    width = (1. - 2. * margin) / n_predictions\n",
    "\n",
    "    for image_i, (feature, label_id, pred_indicies, pred_values) in enumerate(zip(features, label_ids, predictions.indices, predictions.values)):\n",
    "        pred_names = [label_names[pred_i] for pred_i in pred_indicies]\n",
    "        correct_name = label_names[label_id]\n",
    "        \n",
    "        axies[image_i][0].imshow(feature[:,:,3:6])\n",
    "        axies[image_i][0].set_title(correct_name)\n",
    "        axies[image_i][0].set_axis_off()\n",
    "\n",
    "        axies[image_i][1].barh(ind + margin, pred_values[::-1], width)\n",
    "        axies[image_i][1].set_yticks(ind + margin)\n",
    "        axies[image_i][1].set_yticklabels(pred_names[::-1])\n",
    "        axies[image_i][1].set_xticks([0, 0.5, 1.0])\n",
    "        \n",
    "\n",
    "def test_model():\n",
    "    \"\"\"\n",
    "    Test the saved model against the test dataset\n",
    "    \"\"\"\n",
    "\n",
    "    test_features, test_labels = X_test, y_test\n",
    "\n",
    "    loaded_graph = tf.Graph()\n",
    "\n",
    "    with tf.Session(graph=loaded_graph) as sess:\n",
    "        # Load model\n",
    "        loader = tf.train.import_meta_graph(save_model_path + '.meta')\n",
    "        loader.restore(sess, save_model_path)\n",
    "\n",
    "        # Get Tensors from loaded model\n",
    "        loaded_x = loaded_graph.get_tensor_by_name('x:0')\n",
    "        loaded_y = loaded_graph.get_tensor_by_name('y:0')\n",
    "        loaded_keep_prob = loaded_graph.get_tensor_by_name('keep_prob:0')\n",
    "        loaded_logits = loaded_graph.get_tensor_by_name('logits:0')\n",
    "        loaded_acc = loaded_graph.get_tensor_by_name('accuracy:0')\n",
    "        \n",
    "        # Get accuracy in batches for memory limitations\n",
    "        test_batch_acc_total = 0\n",
    "        test_batch_count = 0\n",
    "        \n",
    "        #for train_feature_batch, train_label_batch in helper.batch_features_labels(test_features, test_labels, batch_size):\n",
    "        n_batches = len(X_test)//batch_size\n",
    "        for idx in range(0,n_batches,batch_size):\n",
    "            train_feature_batch = X_test[idx:idx+batch_size,:,:,:]\n",
    "            train_label_batch   = y_test[idx:idx+batch_size]\n",
    "            \n",
    "            test_batch_acc_total += sess.run(\n",
    "                loaded_acc,\n",
    "                feed_dict={loaded_x: train_feature_batch, loaded_y: train_label_batch, loaded_keep_prob: 1.0})\n",
    "            test_batch_count += 1\n",
    "\n",
    "        print('Testing Accuracy: {}\\n'.format(test_batch_acc_total/test_batch_count))\n",
    "\n",
    "        # Print Random Samples\n",
    "        random_test_features, random_test_labels = tuple(zip(*random.sample(list(zip(test_features, test_labels)), n_samples)))\n",
    "        random_test_predictions = sess.run(\n",
    "            tf.nn.top_k(tf.nn.softmax(loaded_logits), top_n_predictions),\n",
    "            feed_dict={loaded_x: random_test_features, loaded_y: random_test_labels, loaded_keep_prob: 1.0})\n",
    "        display_image_predictions(random_test_features, random_test_labels, random_test_predictions,n_samples,top_n_predictions)\n",
    "\n",
    "\n",
    "test_model()"
   ]
  },
  {
   "cell_type": "markdown",
   "metadata": {
    "deletable": true,
    "editable": true
   },
   "source": [
    "### Analyze Performance"
   ]
  },
  {
   "cell_type": "code",
   "execution_count": null,
   "metadata": {
    "collapsed": true,
    "deletable": true,
    "editable": true
   },
   "outputs": [],
   "source": [
    "### Calculate the accuracy for these 5 new images. \n",
    "### For example, if the model predicted 1 out of 5 signs correctly, it's 20% accurate on these new images."
   ]
  },
  {
   "cell_type": "markdown",
   "metadata": {
    "deletable": true,
    "editable": true
   },
   "source": [
    "### Output Top 5 Softmax Probabilities For Each Image Found on the Web"
   ]
  },
  {
   "cell_type": "markdown",
   "metadata": {
    "deletable": true,
    "editable": true
   },
   "source": [
    "For each of the new images, print out the model's softmax probabilities to show the **certainty** of the model's predictions (limit the output to the top 5 probabilities for each image). [`tf.nn.top_k`](https://www.tensorflow.org/versions/r0.12/api_docs/python/nn.html#top_k) could prove helpful here. \n",
    "\n",
    "The example below demonstrates how tf.nn.top_k can be used to find the top k predictions for each image.\n",
    "\n",
    "`tf.nn.top_k` will return the values and indices (class ids) of the top k predictions. So if k=3, for each sign, it'll return the 3 largest probabilities (out of a possible 43) and the correspoding class ids.\n",
    "\n",
    "Take this numpy array as an example. The values in the array represent predictions. The array contains softmax probabilities for five candidate images with six possible classes. `tk.nn.top_k` is used to choose the three classes with the highest probability:\n",
    "\n",
    "```\n",
    "# (5, 6) array\n",
    "a = np.array([[ 0.24879643,  0.07032244,  0.12641572,  0.34763842,  0.07893497,\n",
    "         0.12789202],\n",
    "       [ 0.28086119,  0.27569815,  0.08594638,  0.0178669 ,  0.18063401,\n",
    "         0.15899337],\n",
    "       [ 0.26076848,  0.23664738,  0.08020603,  0.07001922,  0.1134371 ,\n",
    "         0.23892179],\n",
    "       [ 0.11943333,  0.29198961,  0.02605103,  0.26234032,  0.1351348 ,\n",
    "         0.16505091],\n",
    "       [ 0.09561176,  0.34396535,  0.0643941 ,  0.16240774,  0.24206137,\n",
    "         0.09155967]])\n",
    "```\n",
    "\n",
    "Running it through `sess.run(tf.nn.top_k(tf.constant(a), k=3))` produces:\n",
    "\n",
    "```\n",
    "TopKV2(values=array([[ 0.34763842,  0.24879643,  0.12789202],\n",
    "       [ 0.28086119,  0.27569815,  0.18063401],\n",
    "       [ 0.26076848,  0.23892179,  0.23664738],\n",
    "       [ 0.29198961,  0.26234032,  0.16505091],\n",
    "       [ 0.34396535,  0.24206137,  0.16240774]]), indices=array([[3, 0, 5],\n",
    "       [0, 1, 4],\n",
    "       [0, 5, 1],\n",
    "       [1, 3, 5],\n",
    "       [1, 4, 3]], dtype=int32))\n",
    "```\n",
    "\n",
    "Looking just at the first row we get `[ 0.34763842,  0.24879643,  0.12789202]`, you can confirm these are the 3 largest probabilities in `a`. You'll also notice `[3, 0, 5]` are the corresponding indices."
   ]
  },
  {
   "cell_type": "code",
   "execution_count": null,
   "metadata": {
    "collapsed": true,
    "deletable": true,
    "editable": true
   },
   "outputs": [],
   "source": [
    "### Print out the top five softmax probabilities for the predictions on the German traffic sign images found on the web. \n",
    "### Feel free to use as many code cells as needed."
   ]
  },
  {
   "cell_type": "markdown",
   "metadata": {
    "deletable": true,
    "editable": true
   },
   "source": [
    "---\n",
    "\n",
    "## Step 4: Visualize the Neural Network's State with Test Images\n",
    "\n",
    " This Section is not required to complete but acts as an additional excersise for understaning the output of a neural network's weights. While neural networks can be a great learning device they are often referred to as a black box. We can understand what the weights of a neural network look like better by plotting their feature maps. After successfully training your neural network you can see what it's feature maps look like by plotting the output of the network's weight layers in response to a test stimuli image. From these plotted feature maps, it's possible to see what characteristics of an image the network finds interesting. For a sign, maybe the inner network feature maps react with high activation to the sign's boundary outline or to the contrast in the sign's painted symbol.\n",
    "\n",
    " Provided for you below is the function code that allows you to get the visualization output of any tensorflow weight layer you want. The inputs to the function should be a stimuli image, one used during training or a new one you provided, and then the tensorflow variable name that represents the layer's state during the training process, for instance if you wanted to see what the [LeNet lab's](https://classroom.udacity.com/nanodegrees/nd013/parts/fbf77062-5703-404e-b60c-95b78b2f3f9e/modules/6df7ae49-c61c-4bb2-a23e-6527e69209ec/lessons/601ae704-1035-4287-8b11-e2c2716217ad/concepts/d4aca031-508f-4e0b-b493-e7b706120f81) feature maps looked like for it's second convolutional layer you could enter conv2 as the tf_activation variable.\n",
    "\n",
    "For an example of what feature map outputs look like, check out NVIDIA's results in their paper [End-to-End Deep Learning for Self-Driving Cars](https://devblogs.nvidia.com/parallelforall/deep-learning-self-driving-cars/) in the section Visualization of internal CNN State. NVIDIA was able to show that their network's inner weights had high activations to road boundary lines by comparing feature maps from an image with a clear path to one without. Try experimenting with a similar test to show that your trained network's weights are looking for interesting features, whether it's looking at differences in feature maps from images with or without a sign, or even what feature maps look like in a trained network vs a completely untrained one on the same sign image.\n",
    "\n",
    "<figure>\n",
    " <img src=\"visualize_cnn.png\" width=\"380\" alt=\"Combined Image\" />\n",
    " <figcaption>\n",
    " <p></p> \n",
    " <p style=\"text-align: center;\"> Your output should look something like this (above)</p> \n",
    " </figcaption>\n",
    "</figure>\n",
    " <p></p> \n"
   ]
  },
  {
   "cell_type": "code",
   "execution_count": null,
   "metadata": {
    "collapsed": false,
    "deletable": true,
    "editable": true
   },
   "outputs": [],
   "source": [
    "### Visualize your network's feature maps here.\n",
    "### Feel free to use as many code cells as needed.\n",
    "\n",
    "# image_input: the test image being fed into the network to produce the feature maps\n",
    "# tf_activation: should be a tf variable name used during your training procedure that represents the calculated state of a specific weight layer\n",
    "# activation_min/max: can be used to view the activation contrast in more detail, by default matplot sets min and max to the actual min and max values of the output\n",
    "# plt_num: used to plot out multiple different weight feature map sets on the same block, just extend the plt number for each new feature map entry\n",
    "\n",
    "def outputFeatureMap(image_input, tf_activation, activation_min=-1, activation_max=-1 ,plt_num=1):\n",
    "    # Here make sure to preprocess your image_input in a way your network expects\n",
    "    # with size, normalization, ect if needed\n",
    "    # image_input =\n",
    "    # Note: x should be the same name as your network's tensorflow data placeholder variable\n",
    "    # If you get an error tf_activation is not defined it maybe having trouble accessing the variable from inside a function\n",
    "    activation = tf_activation.eval(session=sess,feed_dict={x : image_input,keep_prob:1})\n",
    "    print(activation.shape)\n",
    "    featuremaps = activation.shape[3]\n",
    "    plt.figure(plt_num, figsize=(15,15))\n",
    "    for featuremap in range(featuremaps):\n",
    "        plt.subplot(6,8, featuremap+1) # sets the number of feature maps to show on each row and column\n",
    "        plt.title('FeatureMap ' + str(featuremap)) # displays the feature map number\n",
    "        if activation_min != -1 & activation_max != -1:\n",
    "            plt.imshow(activation[0,:,:, featuremap], interpolation=\"nearest\", vmin =activation_min, vmax=activation_max, cmap=\"gray\")\n",
    "        elif activation_max != -1:\n",
    "            plt.imshow(activation[0,:,:, featuremap], interpolation=\"nearest\", vmax=activation_max, cmap=\"gray\")\n",
    "        elif activation_min !=-1:\n",
    "            plt.imshow(activation[0,:,:, featuremap], interpolation=\"nearest\", vmin=activation_min, cmap=\"gray\")\n",
    "        else:\n",
    "            plt.imshow(activation[0,:,:, featuremap], interpolation=\"nearest\", cmap=\"gray\")\n",
    "            \n",
    "            \n",
    "image =  X_train[-1:,:,:,:]\n",
    "fig, ax = plt.subplots()\n",
    "ax.imshow(image[0,:,:,:])\n",
    "plt.show()\n",
    "\n",
    "\n",
    "with tf.Session() as sess:\n",
    "    # Initializing the variables\n",
    "    try:\n",
    "        saver.restore(sess, save_model_path)\n",
    "        print('Restored Model...')\n",
    "    except:\n",
    "        sess.run(tf.global_variables_initializer())\n",
    "        print('Initialised Model...')\n",
    "    outputFeatureMap(image, tf_activation, activation_min=-1, activation_max=-1 ,plt_num=1)"
   ]
  },
  {
   "cell_type": "markdown",
   "metadata": {
    "deletable": true,
    "editable": true
   },
   "source": [
    "### Question 9\n",
    "\n",
    "Discuss how you used the visual output of your trained network's feature maps to show that it had learned to look for interesting characteristics in traffic sign images\n"
   ]
  },
  {
   "cell_type": "markdown",
   "metadata": {
    "deletable": true,
    "editable": true
   },
   "source": [
    "**Answer:**"
   ]
  },
  {
   "cell_type": "markdown",
   "metadata": {
    "deletable": true,
    "editable": true
   },
   "source": [
    "> **Note**: Once you have completed all of the code implementations and successfully answered each question above, you may finalize your work by exporting the iPython Notebook as an HTML document. You can do this by using the menu above and navigating to  \\n\",\n",
    "    \"**File -> Download as -> HTML (.html)**. Include the finished document along with this notebook as your submission."
   ]
  },
  {
   "cell_type": "markdown",
   "metadata": {
    "deletable": true,
    "editable": true
   },
   "source": [
    "### Project Writeup\n",
    "\n",
    "Once you have completed the code implementation, document your results in a project writeup using this [template](https://github.com/udacity/CarND-Traffic-Sign-Classifier-Project/blob/master/writeup_template.md) as a guide. The writeup can be in a markdown or pdf file. "
   ]
  },
  {
   "cell_type": "code",
   "execution_count": null,
   "metadata": {
    "collapsed": false,
    "deletable": true,
    "editable": true
   },
   "outputs": [],
   "source": [
    "##Writeup Template"
   ]
  },
  {
   "cell_type": "markdown",
   "metadata": {
    "deletable": true,
    "editable": true
   },
   "source": [
    "**Build a Traffic Sign Recognition Project**\n",
    "\n",
    "The goals / steps of this project are the following:\n",
    "* Load the data set (see below for links to the project data set)\n",
    "* Explore, summarize and visualize the data set\n",
    "* Design, train and test a model architecture\n",
    "* Use the model to make predictions on new images\n",
    "* Analyze the softmax probabilities of the new images\n",
    "* Summarize the results with a written report\n",
    "\n",
    "\n",
    "[//]: # (Image References)\n",
    "\n",
    "[image1]: ./examples/visualization.jpg \"Visualization\"\n",
    "[image2]: ./examples/grayscale.jpg \"Grayscaling\"\n",
    "[image3]: ./examples/random_noise.jpg \"Random Noise\"\n",
    "[image4]: ./examples/placeholder.png \"Traffic Sign 1\"\n",
    "[image5]: ./examples/placeholder.png \"Traffic Sign 2\"\n",
    "[image6]: ./examples/placeholder.png \"Traffic Sign 3\"\n",
    "[image7]: ./examples/placeholder.png \"Traffic Sign 4\"\n",
    "[image8]: ./examples/placeholder.png \"Traffic Sign 5\"\n",
    "\n",
    "## Rubric Points\n",
    "\n",
    "\n",
    "###Data Set Summary & Exploration\n",
    "\n",
    "####1. Provide a basic summary of the data set and identify where in your code the summary was done. In the code, the analysis should be done using python, numpy and/or pandas methods rather than hardcoding results manually.\n",
    "\n",
    "The code for this step is contained in the second code cell of the IPython notebook.  \n",
    "\n",
    "I used the pandas library to load the signnames\n",
    "\n",
    "Number of training examples = 34799\n",
    "Number of testing examples = 12630\n",
    "Image data shape = (32, 32)\n",
    "Number of classes = 43\n",
    "\n",
    "\n",
    "####2. Include an exploratory visualization of the dataset and identify where the code is in your code file.\n",
    "\n",
    "I just plottet the images, ids and sign names. I know this signs very well so i could also verify that the labels are correct.\n",
    "\n",
    "###Design and Test a Model Architecture\n",
    "\n",
    "- I added a HLS colorspace to the data. \n",
    "- Did max-scaling\n",
    "- I used 3 Layers conv2d_maxpool and 3 fully connected Layers\n",
    "- The model did learn very fast so there was no need for normalization.\n",
    "\n",
    "####2. Training, validation and testing data. How much data was in each set? \n",
    "\n",
    "There was a lot of data, it seems it comes from videosequences moving mostly towards the signs.\n",
    "\n",
    "I jused random batches to get rid of the sorting in the frames.\n",
    "\n",
    "The code for splitting the data into training and validation sets is contained in the fifth code cell of the IPython notebook.  \n",
    "\n",
    "To cross validate my model, I randomly split the training data into a training set and validation set. I did this by ...\n",
    "\n",
    "My final training set had X number of images. My validation set and test set had Y and Z number of images.\n",
    "\n",
    "The sixth code cell of the IPython notebook contains the code for augmenting the data set. I decided to generate additional data because ... To add more data to the the data set, I used the following techniques because ... \n",
    "\n",
    "Here is an example of an original image and an augmented image:\n",
    "\n",
    "![alt text][image3]\n",
    "\n",
    "The difference between the original data set and the augmented data set is the following ... \n",
    "\n",
    "\n",
    "####3. Describe, and identify where in your code, what your final model architecture looks like including model type, layers, layer sizes, connectivity, etc.) Consider including a diagram and/or table describing the final model.\n",
    "\n",
    "The code for my final model is located in the seventh cell of the ipython notebook. \n",
    "\n",
    "My final model consisted of the following layers:\n",
    "\n",
    "| Layer         \t\t|     Description\t        \t\t\t\t\t| \n",
    "|:---------------------:|:---------------------------------------------:| \n",
    "| Input         \t\t| 32x32x3 RGB image   \t\t\t\t\t\t\t| \n",
    "| Convolution 3x3     \t| 1x1 stride, same padding, outputs 32x32x64 \t|\n",
    "| RELU\t\t\t\t\t|\t\t\t\t\t\t\t\t\t\t\t\t|\n",
    "| Max pooling\t      \t| 2x2 stride,  outputs 16x16x64 \t\t\t\t|\n",
    "| Convolution 3x3\t    | etc.      \t\t\t\t\t\t\t\t\t|\n",
    "| Fully connected\t\t| etc.        \t\t\t\t\t\t\t\t\t|\n",
    "| Softmax\t\t\t\t| etc.        \t\t\t\t\t\t\t\t\t|\n",
    "|\t\t\t\t\t\t|\t\t\t\t\t\t\t\t\t\t\t\t|\n",
    "|\t\t\t\t\t\t|\t\t\t\t\t\t\t\t\t\t\t\t|\n",
    " \n",
    "\n",
    "\n",
    "####4. Describe how, and identify where in your code, you trained your model. The discussion can include the type of optimizer, the batch size, number of epochs and any hyperparameters such as learning rate.\n",
    "\n",
    "The code for training the model is located in the eigth cell of the ipython notebook. \n",
    "\n",
    "To train the model, I used an ....\n",
    "\n",
    "####5. Describe the approach taken for finding a solution. Include in the discussion the results on the training, validation and test sets and where in the code these were calculated. Your approach may have been an iterative process, in which case, outline the steps you took to get to the final solution and why you chose those steps. Perhaps your solution involved an already well known implementation or architecture. In this case, discuss why you think the architecture is suitable for the current problem.\n",
    "\n",
    "The code for calculating the accuracy of the model is located in the ninth cell of the Ipython notebook.\n",
    "\n",
    "My final model results were:\n",
    "* training set accuracy of ?\n",
    "* validation set accuracy of ? \n",
    "* test set accuracy of ?\n",
    "\n",
    "If an iterative approach was chosen:\n",
    "* What was the first architecture that was tried and why was it chosen?\n",
    "* What were some problems with the initial architecture?\n",
    "* How was the architecture adjusted and why was it adjusted? Typical adjustments could include choosing a different model architecture, adding or taking away layers (pooling, dropout, convolution, etc), using an activation function or changing the activation function. One common justification for adjusting an architecture would be due to over fitting or under fitting. A high accuracy on the training set but low accuracy on the validation set indicates over fitting; a low accuracy on both sets indicates under fitting.\n",
    "* Which parameters were tuned? How were they adjusted and why?\n",
    "* What are some of the important design choices and why were they chosen? For example, why might a convolution layer work well with this problem? How might a dropout layer help with creating a successful model?\n",
    "\n",
    "If a well known architecture was chosen:\n",
    "* What architecture was chosen?\n",
    "* Why did you believe it would be relevant to the traffic sign application?\n",
    "* How does the final model's accuracy on the training, validation and test set provide evidence that the model is working well?\n",
    " \n",
    "\n",
    "###Test a Model on New Images\n",
    "\n",
    "####1. Choose five German traffic signs found on the web and provide them in the report. For each image, discuss what quality or qualities might be difficult to classify.\n",
    "\n",
    "Here are five German traffic signs that I found on the web:\n",
    "\n",
    "![alt text][image4] ![alt text][image5] ![alt text][image6] \n",
    "![alt text][image7] ![alt text][image8]\n",
    "\n",
    "The first image might be difficult to classify because ...\n",
    "\n",
    "####2. Discuss the model's predictions on these new traffic signs and compare the results to predicting on the test set. Identify where in your code predictions were made. At a minimum, discuss what the predictions were, the accuracy on these new predictions, and compare the accuracy to the accuracy on the test set (OPTIONAL: Discuss the results in more detail as described in the \"Stand Out Suggestions\" part of the rubric).\n",
    "\n",
    "The code for making predictions on my final model is located in the tenth cell of the Ipython notebook.\n",
    "\n",
    "Here are the results of the prediction:\n",
    "\n",
    "| Image\t\t\t        |     Prediction\t        \t\t\t\t\t| \n",
    "|:---------------------:|:---------------------------------------------:| \n",
    "| Stop Sign      \t\t| Stop sign   \t\t\t\t\t\t\t\t\t| \n",
    "| U-turn     \t\t\t| U-turn \t\t\t\t\t\t\t\t\t\t|\n",
    "| Yield\t\t\t\t\t| Yield\t\t\t\t\t\t\t\t\t\t\t|\n",
    "| 100 km/h\t      \t\t| Bumpy Road\t\t\t\t\t \t\t\t\t|\n",
    "| Slippery Road\t\t\t| Slippery Road      \t\t\t\t\t\t\t|\n",
    "\n",
    "\n",
    "The model was able to correctly guess 4 of the 5 traffic signs, which gives an accuracy of 80%. This compares favorably to the accuracy on the test set of ...\n",
    "\n",
    "####3. Describe how certain the model is when predicting on each of the five new images by looking at the softmax probabilities for each prediction and identify where in your code softmax probabilities were outputted. Provide the top 5 softmax probabilities for each image along with the sign type of each probability. (OPTIONAL: as described in the \"Stand Out Suggestions\" part of the rubric, visualizations can also be provided such as bar charts)\n",
    "\n",
    "The code for making predictions on my final model is located in the 11th cell of the Ipython notebook.\n",
    "\n",
    "For the first image, the model is relatively sure that this is a stop sign (probability of 0.6), and the image does contain a stop sign. The top five soft max probabilities were\n",
    "\n",
    "| Probability         \t|     Prediction\t        \t\t\t\t\t| \n",
    "|:---------------------:|:---------------------------------------------:| \n",
    "| .60         \t\t\t| Stop sign   \t\t\t\t\t\t\t\t\t| \n",
    "| .20     \t\t\t\t| U-turn \t\t\t\t\t\t\t\t\t\t|\n",
    "| .05\t\t\t\t\t| Yield\t\t\t\t\t\t\t\t\t\t\t|\n",
    "| .04\t      \t\t\t| Bumpy Road\t\t\t\t\t \t\t\t\t|\n",
    "| .01\t\t\t\t    | Slippery Road      \t\t\t\t\t\t\t|\n",
    "\n",
    "\n",
    "For the second image ... "
   ]
  }
 ],
 "metadata": {
  "anaconda-cloud": {},
  "kernelspec": {
   "display_name": "Python 3",
   "language": "python",
   "name": "python3"
  },
  "language_info": {
   "codemirror_mode": {
    "name": "ipython",
    "version": 3
   },
   "file_extension": ".py",
   "mimetype": "text/x-python",
   "name": "python",
   "nbconvert_exporter": "python",
   "pygments_lexer": "ipython3",
   "version": "3.5.2"
  },
  "widgets": {
   "state": {},
   "version": "1.1.2"
  }
 },
 "nbformat": 4,
 "nbformat_minor": 1
}

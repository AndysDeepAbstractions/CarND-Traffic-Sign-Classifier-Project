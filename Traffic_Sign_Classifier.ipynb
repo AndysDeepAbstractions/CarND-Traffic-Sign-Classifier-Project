{
 "cells": [
  {
   "cell_type": "markdown",
   "metadata": {
    "deletable": true,
    "editable": true
   },
   "source": [
    "# Self-Driving Car Engineer Nanodegree\n",
    "\n",
    "## Deep Learning\n",
    "\n",
    "## Project: Build a Traffic Sign Recognition Classifier\n",
    "\n",
    "In this notebook, a template is provided for you to implement your functionality in stages, which is required to successfully complete this project. If additional code is required that cannot be included in the notebook, be sure that the Python code is successfully imported and included in your submission if necessary. \n",
    "\n",
    "> **Note**: Once you have completed all of the code implementations, you need to finalize your work by exporting the iPython Notebook as an HTML document. Before exporting the notebook to html, all of the code cells need to have been run so that reviewers can see the final implementation and output. You can then export the notebook by using the menu above and navigating to  \\n\",\n",
    "    \"**File -> Download as -> HTML (.html)**. Include the finished document along with this notebook as your submission. \n",
    "\n",
    "In addition to implementing code, there is a writeup to complete. The writeup should be completed in a separate file, which can be either a markdown file or a pdf document. There is a [write up template](https://github.com/udacity/CarND-Traffic-Sign-Classifier-Project/blob/master/writeup_template.md) that can be used to guide the writing process. Completing the code template and writeup template will cover all of the [rubric points](https://review.udacity.com/#!/rubrics/481/view) for this project.\n",
    "\n",
    "The [rubric](https://review.udacity.com/#!/rubrics/481/view) contains \"Stand Out Suggestions\" for enhancing the project beyond the minimum requirements. The stand out suggestions are optional. If you decide to pursue the \"stand out suggestions\", you can include the code in this Ipython notebook and also discuss the results in the writeup file.\n",
    "\n",
    "\n",
    ">**Note:** Code and Markdown cells can be executed using the **Shift + Enter** keyboard shortcut. In addition, Markdown cells can be edited by typically double-clicking the cell to enter edit mode."
   ]
  },
  {
   "cell_type": "markdown",
   "metadata": {
    "deletable": true,
    "editable": true
   },
   "source": [
    "---\n",
    "## Step 0: Load The Data"
   ]
  },
  {
   "cell_type": "code",
   "execution_count": 1,
   "metadata": {
    "collapsed": false,
    "deletable": true,
    "editable": true
   },
   "outputs": [],
   "source": [
    "# Load pickled data\n",
    "import pickle\n",
    "\n",
    "# TODO: Fill this in based on where you saved the training and testing data\n",
    "\n",
    "training_file = 'train.p'\n",
    "validation_file = 'valid.p'\n",
    "testing_file = 'test.p'\n",
    "\n",
    "with open(training_file, mode='rb') as f:\n",
    "    train = pickle.load(f)\n",
    "with open(validation_file, mode='rb') as f:\n",
    "    valid = pickle.load(f)\n",
    "with open(testing_file, mode='rb') as f:\n",
    "    test = pickle.load(f)\n",
    "    \n",
    "X_train, y_train = train['features'], train['labels']\n",
    "X_valid, y_valid = valid['features'], valid['labels']\n",
    "X_test, y_test   = test['features'], test['labels']\n",
    "\n",
    "import numpy as np\n",
    "def one_hot_encode(x):\n",
    "    \"\"\"\n",
    "    One hot encode a list of sample labels. Return a one-hot encoded vector for each label.\n",
    "    : x: List of sample Labels\n",
    "    : return: Numpy array of one-hot encoded labels\n",
    "    \"\"\"\n",
    "\n",
    "    np.set_printoptions(threshold=np.nan)\n",
    "    from sklearn.preprocessing import LabelBinarizer\n",
    "    \n",
    "    # Turn labels into numbers and apply One-Hot Encoding\n",
    "    encoder = LabelBinarizer()\n",
    "    encoder.fit(range(43))\n",
    "    \n",
    "    x = encoder.transform(x)\n",
    "    # Change to float32, so it can be multiplied against the features in TensorFlow, which are float32\n",
    "    x = x.astype(np.float32)\n",
    "    \n",
    "    return x\n",
    "\n",
    "y_train_idx = np.copy(y_train)\n",
    "y_valid_idx = np.copy(y_valid)\n",
    "y_test_idx  = np.copy(y_test)\n",
    "\n",
    "y_train = one_hot_encode(y_train)\n",
    "y_valid = one_hot_encode(y_valid)\n",
    "y_test  = one_hot_encode(y_test)"
   ]
  },
  {
   "cell_type": "markdown",
   "metadata": {
    "deletable": true,
    "editable": true
   },
   "source": [
    "---\n",
    "\n",
    "## Step 1: Dataset Summary & Exploration\n",
    "\n",
    "The pickled data is a dictionary with 4 key/value pairs:\n",
    "\n",
    "- `'features'` is a 4D array containing raw pixel data of the traffic sign images, (num examples, width, height, channels).\n",
    "- `'labels'` is a 1D array containing the label/class id of the traffic sign. The file `signnames.csv` contains id -> name mappings for each id.\n",
    "- `'sizes'` is a list containing tuples, (width, height) representing the original width and height the image.\n",
    "- `'coords'` is a list containing tuples, (x1, y1, x2, y2) representing coordinates of a bounding box around the sign in the image. **THESE COORDINATES ASSUME THE ORIGINAL IMAGE. THE PICKLED DATA CONTAINS RESIZED VERSIONS (32 by 32) OF THESE IMAGES**\n",
    "\n",
    "Complete the basic data summary below. Use python, numpy and/or pandas methods to calculate the data summary rather than hard coding the results. For example, the [pandas shape method](http://pandas.pydata.org/pandas-docs/stable/generated/pandas.DataFrame.shape.html) might be useful for calculating some of the summary results. "
   ]
  },
  {
   "cell_type": "markdown",
   "metadata": {
    "deletable": true,
    "editable": true
   },
   "source": [
    "### Provide a Basic Summary of the Data Set Using Python, Numpy and/or Pandas"
   ]
  },
  {
   "cell_type": "code",
   "execution_count": 2,
   "metadata": {
    "collapsed": false,
    "deletable": true,
    "editable": true
   },
   "outputs": [
    {
     "name": "stdout",
     "output_type": "stream",
     "text": [
      "Number of training examples = 34799\n",
      "Number of testing examples = 12630\n",
      "Image data shape = (32, 32)\n",
      "Number of classes = 43\n"
     ]
    }
   ],
   "source": [
    "### Replace each question mark with the appropriate value. \n",
    "### Use python, pandas or numpy methods rather than hard coding the results\n",
    "\n",
    "# TODO: Number of training examples\n",
    "n_train = X_train.shape[0]\n",
    "\n",
    "# TODO: Number of testing examples.\n",
    "n_test = X_test.shape[0]\n",
    "\n",
    "# TODO: What's the shape of an traffic sign image?\n",
    "image_shape = X_train.shape[1:3]\n",
    "\n",
    "# TODO: How many unique classes/labels there are in the dataset.\n",
    "n_classes = y_train.shape[-1]\n",
    "\n",
    "print(\"Number of training examples =\", n_train)\n",
    "print(\"Number of testing examples =\", n_test)\n",
    "print(\"Image data shape =\", image_shape)\n",
    "print(\"Number of classes =\", n_classes)"
   ]
  },
  {
   "cell_type": "markdown",
   "metadata": {
    "deletable": true,
    "editable": true
   },
   "source": [
    "### Include an exploratory visualization of the dataset"
   ]
  },
  {
   "cell_type": "markdown",
   "metadata": {
    "deletable": true,
    "editable": true
   },
   "source": [
    "Visualize the German Traffic Signs Dataset using the pickled file(s). This is open ended, suggestions include: plotting traffic sign images, plotting the count of each sign, etc.\n",
    "\n",
    "The [Matplotlib](http://matplotlib.org/) [examples](http://matplotlib.org/examples/index.html) and [gallery](http://matplotlib.org/gallery.html) pages are a great resource for doing visualizations in Python.\n",
    "\n",
    "**NOTE:** It's recommended you start with something simple first. If you wish to do more, come back to it after you've completed the rest of the sections."
   ]
  },
  {
   "cell_type": "code",
   "execution_count": 3,
   "metadata": {
    "collapsed": false,
    "deletable": true,
    "editable": true
   },
   "outputs": [
    {
     "data": {
      "text/html": [
       "<div>\n",
       "<table border=\"1\" class=\"dataframe\">\n",
       "  <thead>\n",
       "    <tr style=\"text-align: right;\">\n",
       "      <th></th>\n",
       "      <th>ClassId</th>\n",
       "      <th>SignName</th>\n",
       "    </tr>\n",
       "  </thead>\n",
       "  <tbody>\n",
       "    <tr>\n",
       "      <th>0</th>\n",
       "      <td>0</td>\n",
       "      <td>Speed limit (20km/h)</td>\n",
       "    </tr>\n",
       "    <tr>\n",
       "      <th>1</th>\n",
       "      <td>1</td>\n",
       "      <td>Speed limit (30km/h)</td>\n",
       "    </tr>\n",
       "    <tr>\n",
       "      <th>2</th>\n",
       "      <td>2</td>\n",
       "      <td>Speed limit (50km/h)</td>\n",
       "    </tr>\n",
       "    <tr>\n",
       "      <th>3</th>\n",
       "      <td>3</td>\n",
       "      <td>Speed limit (60km/h)</td>\n",
       "    </tr>\n",
       "    <tr>\n",
       "      <th>4</th>\n",
       "      <td>4</td>\n",
       "      <td>Speed limit (70km/h)</td>\n",
       "    </tr>\n",
       "    <tr>\n",
       "      <th>5</th>\n",
       "      <td>5</td>\n",
       "      <td>Speed limit (80km/h)</td>\n",
       "    </tr>\n",
       "    <tr>\n",
       "      <th>6</th>\n",
       "      <td>6</td>\n",
       "      <td>End of speed limit (80km/h)</td>\n",
       "    </tr>\n",
       "    <tr>\n",
       "      <th>7</th>\n",
       "      <td>7</td>\n",
       "      <td>Speed limit (100km/h)</td>\n",
       "    </tr>\n",
       "    <tr>\n",
       "      <th>8</th>\n",
       "      <td>8</td>\n",
       "      <td>Speed limit (120km/h)</td>\n",
       "    </tr>\n",
       "    <tr>\n",
       "      <th>9</th>\n",
       "      <td>9</td>\n",
       "      <td>No passing</td>\n",
       "    </tr>\n",
       "    <tr>\n",
       "      <th>10</th>\n",
       "      <td>10</td>\n",
       "      <td>No passing for vehicles over 3.5 metric tons</td>\n",
       "    </tr>\n",
       "    <tr>\n",
       "      <th>11</th>\n",
       "      <td>11</td>\n",
       "      <td>Right-of-way at the next intersection</td>\n",
       "    </tr>\n",
       "    <tr>\n",
       "      <th>12</th>\n",
       "      <td>12</td>\n",
       "      <td>Priority road</td>\n",
       "    </tr>\n",
       "    <tr>\n",
       "      <th>13</th>\n",
       "      <td>13</td>\n",
       "      <td>Yield</td>\n",
       "    </tr>\n",
       "    <tr>\n",
       "      <th>14</th>\n",
       "      <td>14</td>\n",
       "      <td>Stop</td>\n",
       "    </tr>\n",
       "    <tr>\n",
       "      <th>15</th>\n",
       "      <td>15</td>\n",
       "      <td>No vehicles</td>\n",
       "    </tr>\n",
       "    <tr>\n",
       "      <th>16</th>\n",
       "      <td>16</td>\n",
       "      <td>Vehicles over 3.5 metric tons prohibited</td>\n",
       "    </tr>\n",
       "    <tr>\n",
       "      <th>17</th>\n",
       "      <td>17</td>\n",
       "      <td>No entry</td>\n",
       "    </tr>\n",
       "    <tr>\n",
       "      <th>18</th>\n",
       "      <td>18</td>\n",
       "      <td>General caution</td>\n",
       "    </tr>\n",
       "    <tr>\n",
       "      <th>19</th>\n",
       "      <td>19</td>\n",
       "      <td>Dangerous curve to the left</td>\n",
       "    </tr>\n",
       "    <tr>\n",
       "      <th>20</th>\n",
       "      <td>20</td>\n",
       "      <td>Dangerous curve to the right</td>\n",
       "    </tr>\n",
       "    <tr>\n",
       "      <th>21</th>\n",
       "      <td>21</td>\n",
       "      <td>Double curve</td>\n",
       "    </tr>\n",
       "    <tr>\n",
       "      <th>22</th>\n",
       "      <td>22</td>\n",
       "      <td>Bumpy road</td>\n",
       "    </tr>\n",
       "    <tr>\n",
       "      <th>23</th>\n",
       "      <td>23</td>\n",
       "      <td>Slippery road</td>\n",
       "    </tr>\n",
       "    <tr>\n",
       "      <th>24</th>\n",
       "      <td>24</td>\n",
       "      <td>Road narrows on the right</td>\n",
       "    </tr>\n",
       "    <tr>\n",
       "      <th>25</th>\n",
       "      <td>25</td>\n",
       "      <td>Road work</td>\n",
       "    </tr>\n",
       "    <tr>\n",
       "      <th>26</th>\n",
       "      <td>26</td>\n",
       "      <td>Traffic signals</td>\n",
       "    </tr>\n",
       "    <tr>\n",
       "      <th>27</th>\n",
       "      <td>27</td>\n",
       "      <td>Pedestrians</td>\n",
       "    </tr>\n",
       "    <tr>\n",
       "      <th>28</th>\n",
       "      <td>28</td>\n",
       "      <td>Children crossing</td>\n",
       "    </tr>\n",
       "    <tr>\n",
       "      <th>29</th>\n",
       "      <td>29</td>\n",
       "      <td>Bicycles crossing</td>\n",
       "    </tr>\n",
       "    <tr>\n",
       "      <th>30</th>\n",
       "      <td>30</td>\n",
       "      <td>Beware of ice/snow</td>\n",
       "    </tr>\n",
       "    <tr>\n",
       "      <th>31</th>\n",
       "      <td>31</td>\n",
       "      <td>Wild animals crossing</td>\n",
       "    </tr>\n",
       "    <tr>\n",
       "      <th>32</th>\n",
       "      <td>32</td>\n",
       "      <td>End of all speed and passing limits</td>\n",
       "    </tr>\n",
       "    <tr>\n",
       "      <th>33</th>\n",
       "      <td>33</td>\n",
       "      <td>Turn right ahead</td>\n",
       "    </tr>\n",
       "    <tr>\n",
       "      <th>34</th>\n",
       "      <td>34</td>\n",
       "      <td>Turn left ahead</td>\n",
       "    </tr>\n",
       "    <tr>\n",
       "      <th>35</th>\n",
       "      <td>35</td>\n",
       "      <td>Ahead only</td>\n",
       "    </tr>\n",
       "    <tr>\n",
       "      <th>36</th>\n",
       "      <td>36</td>\n",
       "      <td>Go straight or right</td>\n",
       "    </tr>\n",
       "    <tr>\n",
       "      <th>37</th>\n",
       "      <td>37</td>\n",
       "      <td>Go straight or left</td>\n",
       "    </tr>\n",
       "    <tr>\n",
       "      <th>38</th>\n",
       "      <td>38</td>\n",
       "      <td>Keep right</td>\n",
       "    </tr>\n",
       "    <tr>\n",
       "      <th>39</th>\n",
       "      <td>39</td>\n",
       "      <td>Keep left</td>\n",
       "    </tr>\n",
       "    <tr>\n",
       "      <th>40</th>\n",
       "      <td>40</td>\n",
       "      <td>Roundabout mandatory</td>\n",
       "    </tr>\n",
       "    <tr>\n",
       "      <th>41</th>\n",
       "      <td>41</td>\n",
       "      <td>End of no passing</td>\n",
       "    </tr>\n",
       "    <tr>\n",
       "      <th>42</th>\n",
       "      <td>42</td>\n",
       "      <td>End of no passing by vehicles over 3.5 metric ...</td>\n",
       "    </tr>\n",
       "  </tbody>\n",
       "</table>\n",
       "</div>"
      ],
      "text/plain": [
       "    ClassId                                           SignName\n",
       "0         0                               Speed limit (20km/h)\n",
       "1         1                               Speed limit (30km/h)\n",
       "2         2                               Speed limit (50km/h)\n",
       "3         3                               Speed limit (60km/h)\n",
       "4         4                               Speed limit (70km/h)\n",
       "5         5                               Speed limit (80km/h)\n",
       "6         6                        End of speed limit (80km/h)\n",
       "7         7                              Speed limit (100km/h)\n",
       "8         8                              Speed limit (120km/h)\n",
       "9         9                                         No passing\n",
       "10       10       No passing for vehicles over 3.5 metric tons\n",
       "11       11              Right-of-way at the next intersection\n",
       "12       12                                      Priority road\n",
       "13       13                                              Yield\n",
       "14       14                                               Stop\n",
       "15       15                                        No vehicles\n",
       "16       16           Vehicles over 3.5 metric tons prohibited\n",
       "17       17                                           No entry\n",
       "18       18                                    General caution\n",
       "19       19                        Dangerous curve to the left\n",
       "20       20                       Dangerous curve to the right\n",
       "21       21                                       Double curve\n",
       "22       22                                         Bumpy road\n",
       "23       23                                      Slippery road\n",
       "24       24                          Road narrows on the right\n",
       "25       25                                          Road work\n",
       "26       26                                    Traffic signals\n",
       "27       27                                        Pedestrians\n",
       "28       28                                  Children crossing\n",
       "29       29                                  Bicycles crossing\n",
       "30       30                                 Beware of ice/snow\n",
       "31       31                              Wild animals crossing\n",
       "32       32                End of all speed and passing limits\n",
       "33       33                                   Turn right ahead\n",
       "34       34                                    Turn left ahead\n",
       "35       35                                         Ahead only\n",
       "36       36                               Go straight or right\n",
       "37       37                                Go straight or left\n",
       "38       38                                         Keep right\n",
       "39       39                                          Keep left\n",
       "40       40                               Roundabout mandatory\n",
       "41       41                                  End of no passing\n",
       "42       42  End of no passing by vehicles over 3.5 metric ..."
      ]
     },
     "execution_count": 3,
     "metadata": {},
     "output_type": "execute_result"
    }
   ],
   "source": [
    "### Data exploration visualization code goes here.\n",
    "### Feel free to use as many code cells as needed.\n",
    "import matplotlib.pyplot as plt\n",
    "# Visualizations will be shown in the notebook.\n",
    "%matplotlib inline\n",
    "\n",
    "import pandas as pd\n",
    "df = pd.read_csv('./signnames.csv')\n",
    "df"
   ]
  },
  {
   "cell_type": "code",
   "execution_count": 4,
   "metadata": {
    "collapsed": false,
    "deletable": true,
    "editable": true
   },
   "outputs": [
    {
     "data": {
      "image/png": "[encoded data removed]",
      "text/plain": [
       "<matplotlib.figure.Figure at 0x1838b3f0c18>"
      ]
     },
     "metadata": {},
     "output_type": "display_data"
    },
    {
     "name": "stdout",
     "output_type": "stream",
     "text": [
      "ID: 41, Sign name: End of no passing\n"
     ]
    },
    {
     "data": {
      "image/png": "[encoded data removed]",
      "text/plain": [
       "<matplotlib.figure.Figure at 0x1838b837dd8>"
      ]
     },
     "metadata": {},
     "output_type": "display_data"
    },
    {
     "name": "stdout",
     "output_type": "stream",
     "text": [
      "ID: 4, Sign name: Speed limit (70km/h)\n"
     ]
    },
    {
     "data": {
      "image/png": "[encoded data removed]",
      "text/plain": [
       "<matplotlib.figure.Figure at 0x1838b8a6630>"
      ]
     },
     "metadata": {},
     "output_type": "display_data"
    },
    {
     "name": "stdout",
     "output_type": "stream",
     "text": [
      "ID: 5, Sign name: Speed limit (80km/h)\n"
     ]
    },
    {
     "data": {
      "image/png": "[encoded data removed]",
      "text/plain": [
       "<matplotlib.figure.Figure at 0x1838b445b38>"
      ]
     },
     "metadata": {},
     "output_type": "display_data"
    },
    {
     "name": "stdout",
     "output_type": "stream",
     "text": [
      "ID: 18, Sign name: General caution\n"
     ]
    },
    {
     "data": {
      "image/png": "[encoded data removed]",
      "text/plain": [
       "<matplotlib.figure.Figure at 0x1838de4ff98>"
      ]
     },
     "metadata": {},
     "output_type": "display_data"
    },
    {
     "name": "stdout",
     "output_type": "stream",
     "text": [
      "ID: 12, Sign name: Priority road\n"
     ]
    },
    {
     "data": {
      "image/png": "[encoded data removed]",
      "text/plain": [
       "<matplotlib.figure.Figure at 0x1838deb5be0>"
      ]
     },
     "metadata": {},
     "output_type": "display_data"
    },
    {
     "name": "stdout",
     "output_type": "stream",
     "text": [
      "ID: 25, Sign name: Road work\n"
     ]
    }
   ],
   "source": [
    "def visualise_dataset(X_train):\n",
    "    for i in range(0,X_train.shape[0],int(X_train.shape[0]/5)):  \n",
    "        image =  X_train[i,:,:,:]\n",
    "        fig, ax = plt.subplots()\n",
    "        ax.imshow(image)\n",
    "        plt.show()\n",
    "        sign_id = y_train_idx[i]\n",
    "        sign_name = df.values[sign_id,-1]\n",
    "        print('ID: {}, Sign name: {}'.format(sign_id,sign_name))\n",
    "        \n",
    "visualise_dataset(X_train)       "
   ]
  },
  {
   "cell_type": "markdown",
   "metadata": {
    "deletable": true,
    "editable": true
   },
   "source": [
    "----\n",
    "\n",
    "## Step 2: Design and Test a Model Architecture\n",
    "\n",
    "Design and implement a deep learning model that learns to recognize traffic signs. Train and test your model on the [German Traffic Sign Dataset](http://benchmark.ini.rub.de/?section=gtsrb&subsection=dataset).\n",
    "\n",
    "The LeNet-5 implementation shown in the [classroom](https://classroom.udacity.com/nanodegrees/nd013/parts/fbf77062-5703-404e-b60c-95b78b2f3f9e/modules/6df7ae49-c61c-4bb2-a23e-6527e69209ec/lessons/601ae704-1035-4287-8b11-e2c2716217ad/concepts/d4aca031-508f-4e0b-b493-e7b706120f81) at the end of the CNN lesson is a solid starting point. You'll have to change the number of classes and possibly the preprocessing, but aside from that it's plug and play! \n",
    "\n",
    "With the LeNet-5 solution from the lecture, you should expect a validation set accuracy of about 0.89. To meet specifications, the validation set accuracy will need to be at least 0.93. It is possible to get an even higher accuracy, but 0.93 is the minimum for a successful project submission. \n",
    "\n",
    "There are various aspects to consider when thinking about this problem:\n",
    "\n",
    "- Neural network architecture (is the network over or underfitting?)\n",
    "- Play around preprocessing techniques (normalization, rgb to grayscale, etc)\n",
    "- Number of examples per label (some have more than others).\n",
    "- Generate fake data.\n",
    "\n",
    "Here is an example of a [published baseline model on this problem](http://yann.lecun.com/exdb/publis/pdf/sermanet-ijcnn-11.pdf). It's not required to be familiar with the approach used in the paper but, it's good practice to try to read papers like these."
   ]
  },
  {
   "cell_type": "markdown",
   "metadata": {
    "deletable": true,
    "editable": true
   },
   "source": [
    "### Pre-process the Data Set (normalization, grayscale, etc.)"
   ]
  },
  {
   "cell_type": "markdown",
   "metadata": {
    "deletable": true,
    "editable": true
   },
   "source": [
    "Use the code cell (or multiple code cells, if necessary) to implement the first step of your project."
   ]
  },
  {
   "cell_type": "code",
   "execution_count": 5,
   "metadata": {
    "collapsed": false,
    "deletable": true,
    "editable": true
   },
   "outputs": [
    {
     "name": "stdout",
     "output_type": "stream",
     "text": [
      "(34799, 32, 32, 3)\n",
      "(4410, 32, 32, 3)\n",
      "(12630, 32, 32, 3)\n",
      "[28 25 24]\n"
     ]
    }
   ],
   "source": [
    "print(X_train.shape)\n",
    "print(X_valid.shape)\n",
    "print(X_test.shape)\n",
    "print(X_train[0,0,0,:])"
   ]
  },
  {
   "cell_type": "code",
   "execution_count": 6,
   "metadata": {
    "collapsed": false
   },
   "outputs": [
    {
     "name": "stdout",
     "output_type": "stream",
     "text": [
      "Wall time: 4.83 s\n",
      "Wall time: 1.42 s\n",
      "Wall time: 4.61 s\n"
     ]
    }
   ],
   "source": [
    "import cv2\n",
    "\n",
    "def conv_to_concat_colorspace(image_batch):\n",
    "    shape = np.asarray(image_batch.shape)\n",
    "    shape[-1] *= 2\n",
    "    concat_batch = np.empty(shape)\n",
    "    for idx in range(image_batch.shape[0]):\n",
    "        concat_batch[idx,:,:,0:3] = cv2.cvtColor(image_batch[idx], cv2.COLOR_RGB2HLS)\n",
    "        concat_batch[idx,:,:,3:6] = image_batch[idx]\n",
    "        concat_batch[idx,:,:,:]   =  concat_batch[idx,:,:,:]/255\n",
    "    return concat_batch\n",
    "\n",
    "%time X_train_ = conv_to_concat_colorspace(X_train)\n",
    "%time X_valid_ = conv_to_concat_colorspace(X_valid)\n",
    "%time X_test_  = conv_to_concat_colorspace(X_test)\n",
    "\n",
    "X_train = X_train_\n",
    "X_valid = X_valid_ \n",
    "X_test  = X_test_"
   ]
  },
  {
   "cell_type": "code",
   "execution_count": 7,
   "metadata": {
    "collapsed": false,
    "deletable": true,
    "editable": true,
    "scrolled": true
   },
   "outputs": [],
   "source": [
    "if False:\n",
    "    with open('X_train.pickle', 'rb') as handle:\n",
    "        X_train = pickle.load(handle, protocol=pickle.HIGHEST_PROTOCOL)\n",
    "    with open('X_valid.pickle', 'rb') as handle:\n",
    "        X_valid = pickle.load(handle, protocol=pickle.HIGHEST_PROTOCOL)\n",
    "    with open('X_test.pickle', 'rb') as handle:\n",
    "        X_test = pickle.load(handle, protocol=pickle.HIGHEST_PROTOCOL)\n",
    "        \n",
    "if False:\n",
    "    with open('X_train.pickle', 'wb') as handle:\n",
    "        pickle.dump(X_train, handle, protocol=pickle.HIGHEST_PROTOCOL)\n",
    "    with open('X_valid.pickle', 'wb') as handle:\n",
    "        pickle.dump(X_valid, handle, protocol=pickle.HIGHEST_PROTOCOL)\n",
    "    with open('X_test.pickle', 'wb') as handle:\n",
    "        pickle.dump(X_test, handle, protocol=pickle.HIGHEST_PROTOCOL)"
   ]
  },
  {
   "cell_type": "code",
   "execution_count": 8,
   "metadata": {
    "collapsed": false,
    "deletable": true,
    "editable": true
   },
   "outputs": [
    {
     "name": "stdout",
     "output_type": "stream",
     "text": [
      "(34799, 32, 32, 6)\n",
      "(4410, 32, 32, 6)\n",
      "(12630, 32, 32, 6)\n",
      "[ 0.03137255  0.10196078  0.07843137  0.10980392  0.09803922  0.09411765]\n"
     ]
    }
   ],
   "source": [
    "print(X_train.shape)\n",
    "print(X_valid.shape)\n",
    "print(X_test.shape)\n",
    "print(X_train[0,0,0,:])"
   ]
  },
  {
   "cell_type": "markdown",
   "metadata": {
    "deletable": true,
    "editable": true
   },
   "source": [
    "### Model Architecture"
   ]
  },
  {
   "cell_type": "code",
   "execution_count": 9,
   "metadata": {
    "collapsed": false,
    "deletable": true,
    "editable": true
   },
   "outputs": [],
   "source": [
    "import tensorflow as tf\n",
    "\n",
    "def conv2d_maxpool(x_tensor, conv_num_outputs, conv_ksize, conv_strides, pool_ksize, pool_strides):\n",
    "    \"\"\"\n",
    "    Apply convolution then max pooling to x_tensor\n",
    "    :param x_tensor: TensorFlow Tensor\n",
    "    :param conv_num_outputs: Number of outputs for the convolutional layer\n",
    "    :param conv_ksize: kernal size 2-D Tuple for the convolutional layer\n",
    "    :param conv_strides: Stride 2-D Tuple for convolution\n",
    "    :param pool_ksize: kernal size 2-D Tuple for pool\n",
    "    :param pool_strides: Stride 2-D Tuple for pool\n",
    "    : return: A tensor that represents convolution and max pooling of x_tensor\n",
    "    \"\"\"    \n",
    "    \n",
    "    # Create the weight and bias\n",
    "    biases  = tf.Variable(tf.zeros(conv_num_outputs))\n",
    "    # TF 1.0 :\n",
    "    #weights_depth = x_tensor.shape.as_list()[-1]\n",
    "    # TF 0.12 :\n",
    "    weights_depth = x_tensor.get_shape().as_list()[-1]\n",
    "\n",
    "    \n",
    "    weights_dim = [conv_ksize[0], conv_ksize[1], weights_depth, conv_num_outputs]\n",
    "\n",
    "    #print((x_tensor.shape))\n",
    "    #print(weights_dim)\n",
    "    weights = tf.Variable(tf.truncated_normal(weights_dim))\n",
    "    \n",
    "    # Apply Convolution\n",
    "    conv_strides = [1, conv_strides[0], conv_strides[1], 1] # (batch, height, width, depth)\n",
    "    padding = 'SAME'\n",
    "    conv_layer = tf.nn.conv2d(x_tensor, weights, conv_strides, padding)\n",
    "\n",
    "    # Add bias\n",
    "    conv_layer = tf.nn.bias_add(conv_layer, biases)\n",
    "    \n",
    "    # Apply activation function\n",
    "    conv_layer = tf.nn.relu(conv_layer)\n",
    "    \n",
    "    filter_shape = [1, pool_ksize[0], pool_ksize[1], 1]\n",
    "    pool_strides = [1, pool_strides[0], pool_strides[1], 1]\n",
    "    padding = 'VALID'\n",
    "    pool = tf.nn.max_pool(conv_layer, filter_shape, pool_strides, padding)\n",
    "    \n",
    "    return pool \n",
    "\n",
    "\n",
    "def flatten(x_tensor):\n",
    "    \"\"\"\n",
    "    Flatten x_tensor to (Batch Size, Flattened Image Size)\n",
    "    : x_tensor: A tensor of size (Batch Size, ...), where ... are the image dimensions.\n",
    "    : return: A tensor of size (Batch Size, Flattened Image Size).\n",
    "    \"\"\"\n",
    "    dimensions = (x_tensor.get_shape().as_list()[1:4])\n",
    "    \n",
    "    prod = 1\n",
    "    for dimension in dimensions:\n",
    "        prod *= dimension\n",
    "    \n",
    "    x_tensor = tf.reshape(x_tensor, [-1,prod])\n",
    "    return x_tensor\n",
    "\n",
    "\n",
    "def fully_conn(x_tensor, num_outputs):\n",
    "    \"\"\"\n",
    "    Apply a fully connected layer to x_tensor using weight and bias\n",
    "    : x_tensor: A 2-D tensor where the first dimension is batch size.\n",
    "    : num_outputs: The number of output that the new tensor should be.\n",
    "    : return: A 2-D tensor where the second dimension is num_outputs.\n",
    "    \"\"\"\n",
    "    tensor_out = tf.contrib.layers.fully_connected(x_tensor, num_outputs)\n",
    "    return tensor_out\n",
    "\n",
    "\n",
    "def conv_net(x, keep_prob):\n",
    "    \"\"\"\n",
    "    Create a convolutional neural network model\n",
    "    : x: Placeholder tensor that holds image data.\n",
    "    : keep_prob: Placeholder tensor that hold dropout keep probability.\n",
    "    : return: Tensor that represents logits\n",
    "    \"\"\"\n",
    "    \n",
    "    x_tensor = x         #:param x_tensor: TensorFlow Tensor\n",
    "    conv_num_outputs = 4 #:param conv_num_outputs: Number of outputs for the convolutional layer\n",
    "    conv_strides = (1,1) #:param conv_strides: Stride 2-D Tuple for convolution\n",
    "    pool_ksize = (2,2)   #:param pool_ksize: kernal size 2-D Tuple for pool\n",
    "    pool_strides = (1,1) #:param pool_strides: Stride 2-D Tuple for pool\n",
    "    conv_ksize = (3,3)\n",
    "    x_tensor = conv2d_maxpool(x_tensor, conv_num_outputs, conv_ksize, conv_strides, pool_ksize, pool_strides)\n",
    "    conv_num_outputs = 8 #:param conv_num_outputs: Number of outputs for the convolutional layer\n",
    "    x_tensor = conv2d_maxpool(x_tensor, conv_num_outputs, conv_ksize, conv_strides, pool_ksize, pool_strides)\n",
    "    conv_num_outputs = 16 #:param conv_num_outputs: Number of outputs for the convolutional layer\n",
    "    x_tensor = conv2d_maxpool(x_tensor, conv_num_outputs, conv_ksize, conv_strides, pool_ksize, pool_strides)\n",
    "\n",
    "    # Function Definition from Above:\n",
    "    #   \n",
    "    x_tensor = flatten(x_tensor)\n",
    "\n",
    "    # TODO: Apply 1, 2, or 3 Fully Connected Layers\n",
    "    #    Play around with different number of outputs\n",
    "    # Function Definition from Above:\n",
    "    #   \n",
    "    num_outputs = n_classes*4\n",
    "    x_tensor = fully_conn(x_tensor, int(num_outputs))\n",
    "    x_tensor = tf.nn.dropout(x_tensor, keep_prob)\n",
    "    num_outputs = n_classes*3\n",
    "    x_tensor = fully_conn(x_tensor, int(num_outputs))\n",
    "    x_tensor = tf.nn.dropout(x_tensor, keep_prob)\n",
    "    num_outputs = n_classes*2\n",
    "    x_tensor = tf.nn.dropout(x_tensor, keep_prob)\n",
    "    x_tensor = fully_conn(x_tensor, int(num_outputs))\n",
    "    \n",
    "    # TODO: Apply an Output Layer\n",
    "    #    Set this to the number of classes\n",
    "    # Function Definition from Above:\n",
    "    #   \n",
    "    num_outputs = n_classes\n",
    "    x_tensor = fully_conn(x_tensor, int(num_outputs))\n",
    "    \n",
    "    \n",
    "    # TODO: return output\n",
    "    return x_tensor\n",
    "\n",
    "\n",
    "##############################\n",
    "## Build the Neural Network ##\n",
    "##############################\n",
    "\n",
    "# Remove previous weights, bias, inputs, etc..\n",
    "tf.reset_default_graph()\n",
    "\n",
    "# Inputs\n",
    "image_shape = X_train.shape[1:]\n",
    "\n",
    "x = tf.placeholder(tf.float32, shape=[None, image_shape[0], image_shape[1], image_shape[2]],name = 'x')\n",
    "y = tf.placeholder(tf.float32, shape=[None, n_classes],name = 'y')\n",
    "keep_prob = tf.placeholder(tf.float32, name='keep_prob')\n",
    "\n",
    "# Model\n",
    "logits = conv_net(x, keep_prob)\n",
    "\n",
    "# Name logits Tensor, so that is can be loaded from disk after training\n",
    "logits = tf.identity(logits, name='logits')\n",
    "\n",
    "# Loss and Optimizer\n",
    "cost = tf.reduce_mean(tf.nn.softmax_cross_entropy_with_logits(logits=logits, labels=y))\n",
    "optimizer = tf.train.AdamOptimizer().minimize(cost)\n",
    "\n",
    "# Accuracy\n",
    "correct_pred = tf.equal(tf.argmax(logits, 1), tf.argmax(y, 1))\n",
    "accuracy = tf.reduce_mean(tf.cast(correct_pred, tf.float32), name='accuracy')\n",
    "\n"
   ]
  },
  {
   "cell_type": "markdown",
   "metadata": {
    "deletable": true,
    "editable": true
   },
   "source": [
    "### Train, Validate and Test the Model"
   ]
  },
  {
   "cell_type": "markdown",
   "metadata": {
    "deletable": true,
    "editable": true
   },
   "source": [
    "A validation set can be used to assess how well the model is performing. A low accuracy on the training and validation\n",
    "sets imply underfitting. A high accuracy on the training set but low accuracy on the validation set implies overfitting."
   ]
  },
  {
   "cell_type": "code",
   "execution_count": null,
   "metadata": {
    "collapsed": false,
    "deletable": true,
    "editable": true
   },
   "outputs": [
    {
     "name": "stdout",
     "output_type": "stream",
     "text": [
      "Training...\n",
      "Epoch    1, Batch    0:  Loss:   1.64111 Accuracy:   0.50781\n",
      "Epoch    1, Batch  128:  Loss:   1.61138 Accuracy:   0.50781\n",
      "Epoch    1, Batch  256:  Loss:   1.56386 Accuracy:   0.53906\n",
      "Model saved\n",
      "Epoch    2, Batch    0:  Loss:   1.82053 Accuracy:   0.43750\n",
      "Epoch    2, Batch  128:  Loss:   1.80415 Accuracy:   0.41406\n",
      "Epoch    2, Batch  256:  Loss:   1.80745 Accuracy:   0.42188\n",
      "Epoch    3, Batch    0:  Loss:   1.58316 Accuracy:   0.46094\n",
      "Epoch    3, Batch  128:  Loss:   1.56285 Accuracy:   0.50000\n",
      "Epoch    3, Batch  256:  Loss:   1.53530 Accuracy:   0.49219\n",
      "Epoch    4, Batch    0:  Loss:   1.68959 Accuracy:   0.46094\n",
      "Epoch    4, Batch  128:  Loss:   1.67803 Accuracy:   0.45312\n",
      "Epoch    4, Batch  256:  Loss:   1.66561 Accuracy:   0.46875\n",
      "Epoch    5, Batch    0:  Loss:   1.72633 Accuracy:   0.50781\n",
      "Epoch    5, Batch  128:  Loss:   1.71177 Accuracy:   0.49219\n",
      "Epoch    5, Batch  256:  Loss:   1.68891 Accuracy:   0.51562\n",
      "Epoch    6, Batch    0:  Loss:   1.67676 Accuracy:   0.47656\n",
      "Epoch    6, Batch  128:  Loss:   1.66460 Accuracy:   0.45312\n",
      "Epoch    6, Batch  256:  Loss:   1.64247 Accuracy:   0.46875\n",
      "Epoch    7, Batch    0:  Loss:   1.93470 Accuracy:   0.49219\n",
      "Epoch    7, Batch  128:  Loss:   1.90567 Accuracy:   0.49219\n",
      "Epoch    7, Batch  256:  Loss:   1.87602 Accuracy:   0.48438\n",
      "Epoch    8, Batch    0:  Loss:   1.85339 Accuracy:   0.47656\n",
      "Epoch    8, Batch  128:  Loss:   1.84119 Accuracy:   0.49219\n",
      "Epoch    8, Batch  256:  Loss:   1.82611 Accuracy:   0.48438\n",
      "Epoch    9, Batch    0:  Loss:   1.73815 Accuracy:   0.49219\n",
      "Epoch    9, Batch  128:  Loss:   1.72207 Accuracy:   0.49219\n",
      "Epoch    9, Batch  256:  Loss:   1.70546 Accuracy:   0.50781\n",
      "Epoch   10, Batch    0:  Loss:   1.79101 Accuracy:   0.44531\n",
      "Epoch   10, Batch  128:  Loss:   1.79099 Accuracy:   0.45312\n",
      "Epoch   10, Batch  256:  Loss:   1.78145 Accuracy:   0.45312\n",
      "Epoch   11, Batch    0:  Loss:   1.86286 Accuracy:   0.45312\n",
      "Epoch   11, Batch  128:  Loss:   1.83037 Accuracy:   0.45312\n",
      "Epoch   11, Batch  256:  Loss:   1.80862 Accuracy:   0.45312\n",
      "Epoch   12, Batch    0:  Loss:   1.79292 Accuracy:   0.49219\n",
      "Epoch   12, Batch  128:  Loss:   1.77233 Accuracy:   0.49219\n",
      "Epoch   12, Batch  256:  Loss:   1.75187 Accuracy:   0.50781\n",
      "Epoch   13, Batch    0:  Loss:   1.94337 Accuracy:   0.44531\n",
      "Epoch   13, Batch  128:  Loss:   1.91865 Accuracy:   0.46094\n",
      "Epoch   13, Batch  256:  Loss:   1.89044 Accuracy:   0.47656\n",
      "Epoch   14, Batch    0:  Loss:   1.80914 Accuracy:   0.47656\n",
      "Epoch   14, Batch  128:  Loss:   1.79349 Accuracy:   0.47656\n",
      "Epoch   14, Batch  256:  Loss:   1.77447 Accuracy:   0.48438\n",
      "Epoch   15, Batch    0:  Loss:   1.90061 Accuracy:   0.46094\n",
      "Epoch   15, Batch  128:  Loss:   1.87612 Accuracy:   0.47656\n",
      "Epoch   15, Batch  256:  Loss:   1.85594 Accuracy:   0.49219\n",
      "Epoch   16, Batch    0:  Loss:   1.73516 Accuracy:   0.51562\n",
      "Epoch   16, Batch  128:  Loss:   1.71855 Accuracy:   0.49219\n",
      "Epoch   16, Batch  256:  Loss:   1.69109 Accuracy:   0.50781\n",
      "Epoch   17, Batch    0:  Loss:   1.98424 Accuracy:   0.43750\n",
      "Epoch   17, Batch  128:  Loss:   1.96159 Accuracy:   0.44531\n",
      "Epoch   17, Batch  256:  Loss:   1.93550 Accuracy:   0.45312\n",
      "Epoch   18, Batch    0:  Loss:   1.76832 Accuracy:   0.52344\n",
      "Epoch   18, Batch  128:  Loss:   1.75561 Accuracy:   0.52344\n",
      "Epoch   18, Batch  256:  Loss:   1.72547 Accuracy:   0.53125\n",
      "Epoch   19, Batch    0:  Loss:   1.68098 Accuracy:   0.46875\n",
      "Epoch   19, Batch  128:  Loss:   1.65627 Accuracy:   0.45312\n",
      "Epoch   19, Batch  256:  Loss:   1.63650 Accuracy:   0.46094\n",
      "Epoch   20, Batch    0:  Loss:   1.82189 Accuracy:   0.40625\n",
      "Epoch   20, Batch  128:  Loss:   1.81239 Accuracy:   0.42969\n",
      "Epoch   20, Batch  256:  Loss:   1.80292 Accuracy:   0.41406\n",
      "Epoch   21, Batch    0:  Loss:   1.74146 Accuracy:   0.53906\n",
      "Epoch   21, Batch  128:  Loss:   1.73237 Accuracy:   0.52344\n",
      "Epoch   21, Batch  256:  Loss:   1.72942 Accuracy:   0.53125\n",
      "Epoch   22, Batch    0:  Loss:   1.80193 Accuracy:   0.49219\n",
      "Epoch   22, Batch  128:  Loss:   1.74505 Accuracy:   0.49219\n",
      "Epoch   22, Batch  256:  Loss:   1.70340 Accuracy:   0.48438\n",
      "Epoch   23, Batch    0:  Loss:   1.68676 Accuracy:   0.49219\n",
      "Epoch   23, Batch  128:  Loss:   1.68737 Accuracy:   0.49219\n",
      "Epoch   23, Batch  256:  Loss:   1.69320 Accuracy:   0.45312\n",
      "Epoch   24, Batch    0:  Loss:   1.69384 Accuracy:   0.47656\n",
      "Epoch   24, Batch  128:  Loss:   1.67483 Accuracy:   0.48438\n",
      "Epoch   24, Batch  256:  Loss:   1.64975 Accuracy:   0.50000\n",
      "Epoch   25, Batch    0:  Loss:   1.85732 Accuracy:   0.44531\n",
      "Epoch   25, Batch  128:  Loss:   1.82259 Accuracy:   0.46875\n",
      "Epoch   25, Batch  256:  Loss:   1.78971 Accuracy:   0.48438\n",
      "Epoch   26, Batch    0:  Loss:   1.80933 Accuracy:   0.49219\n",
      "Epoch   26, Batch  128:  Loss:   1.80668 Accuracy:   0.46875\n",
      "Epoch   26, Batch  256:  Loss:   1.77767 Accuracy:   0.50000\n",
      "Epoch   27, Batch    0:  Loss:   1.65934 Accuracy:   0.46094\n",
      "Epoch   27, Batch  128:  Loss:   1.63558 Accuracy:   0.47656\n",
      "Epoch   27, Batch  256:  Loss:   1.60463 Accuracy:   0.46094\n",
      "Epoch   28, Batch    0:  Loss:   1.81449 Accuracy:   0.43750\n",
      "Epoch   28, Batch  128:  Loss:   1.79913 Accuracy:   0.44531\n",
      "Epoch   28, Batch  256:  Loss:   1.78990 Accuracy:   0.44531\n",
      "Epoch   29, Batch    0:  Loss:   1.74395 Accuracy:   0.44531\n",
      "Epoch   29, Batch  128:  Loss:   1.72950 Accuracy:   0.44531\n",
      "Epoch   29, Batch  256:  Loss:   1.71375 Accuracy:   0.46094\n",
      "Epoch   30, Batch    0:  Loss:   1.34776 Accuracy:   0.56250\n",
      "Epoch   30, Batch  128:  Loss:   1.35040 Accuracy:   0.59375\n",
      "Epoch   30, Batch  256:  Loss:   1.33158 Accuracy:   0.57031\n",
      "Model saved\n",
      "Epoch   31, Batch    0:  Loss:   1.74843 Accuracy:   0.48438\n",
      "Epoch   31, Batch  128:  Loss:   1.72783 Accuracy:   0.49219\n",
      "Epoch   31, Batch  256:  Loss:   1.70738 Accuracy:   0.48438\n",
      "Epoch   32, Batch    0:  Loss:   1.81994 Accuracy:   0.46875\n",
      "Epoch   32, Batch  128:  Loss:   1.79616 Accuracy:   0.47656\n",
      "Epoch   32, Batch  256:  Loss:   1.76894 Accuracy:   0.48438\n",
      "Epoch   33, Batch    0:  Loss:   1.58769 Accuracy:   0.57812\n",
      "Epoch   33, Batch  128:  Loss:   1.56662 Accuracy:   0.57812\n",
      "Epoch   33, Batch  256:  Loss:   1.53031 Accuracy:   0.58594\n",
      "Model saved\n",
      "Epoch   34, Batch    0:  Loss:   1.81638 Accuracy:   0.46875\n",
      "Epoch   34, Batch  128:  Loss:   1.80684 Accuracy:   0.47656\n",
      "Epoch   34, Batch  256:  Loss:   1.79327 Accuracy:   0.47656\n",
      "Epoch   35, Batch    0:  Loss:   1.94923 Accuracy:   0.46094\n",
      "Epoch   35, Batch  128:  Loss:   1.92002 Accuracy:   0.46094\n",
      "Epoch   35, Batch  256:  Loss:   1.90647 Accuracy:   0.42188\n",
      "Epoch   36, Batch    0:  Loss:   1.63020 Accuracy:   0.49219\n",
      "Epoch   36, Batch  128:  Loss:   1.60878 Accuracy:   0.50000\n",
      "Epoch   36, Batch  256:  Loss:   1.57316 Accuracy:   0.53125\n",
      "Epoch   37, Batch    0:  Loss:   1.74746 Accuracy:   0.46094\n",
      "Epoch   37, Batch  128:  Loss:   1.72944 Accuracy:   0.46875\n",
      "Epoch   37, Batch  256:  Loss:   1.72094 Accuracy:   0.44531\n",
      "Epoch   38, Batch    0:  Loss:   1.80313 Accuracy:   0.46094\n",
      "Epoch   38, Batch  128:  Loss:   1.77752 Accuracy:   0.47656\n",
      "Epoch   38, Batch  256:  Loss:   1.74345 Accuracy:   0.48438\n",
      "Epoch   39, Batch    0:  Loss:   1.46564 Accuracy:   0.51562\n",
      "Epoch   39, Batch  128:  Loss:   1.43628 Accuracy:   0.51562\n",
      "Epoch   39, Batch  256:  Loss:   1.40761 Accuracy:   0.53125\n",
      "Epoch   40, Batch    0:  Loss:   1.72015 Accuracy:   0.50000\n",
      "Epoch   40, Batch  128:  Loss:   1.69703 Accuracy:   0.48438\n",
      "Epoch   40, Batch  256:  Loss:   1.66965 Accuracy:   0.50000\n",
      "Epoch   41, Batch    0:  Loss:   1.89374 Accuracy:   0.44531\n",
      "Epoch   41, Batch  128:  Loss:   1.87326 Accuracy:   0.45312\n",
      "Epoch   41, Batch  256:  Loss:   1.84785 Accuracy:   0.46094\n",
      "Epoch   42, Batch    0:  Loss:   1.43026 Accuracy:   0.54688\n",
      "Epoch   42, Batch  128:  Loss:   1.41395 Accuracy:   0.57031\n",
      "Epoch   42, Batch  256:  Loss:   1.39890 Accuracy:   0.60156\n",
      "Model saved\n",
      "Epoch   43, Batch    0:  Loss:   1.85266 Accuracy:   0.48438\n",
      "Epoch   43, Batch  128:  Loss:   1.83034 Accuracy:   0.49219\n",
      "Epoch   43, Batch  256:  Loss:   1.81232 Accuracy:   0.49219\n",
      "Epoch   44, Batch    0:  Loss:   1.51227 Accuracy:   0.56250\n",
      "Epoch   44, Batch  128:  Loss:   1.49034 Accuracy:   0.57031\n",
      "Epoch   44, Batch  256:  Loss:   1.46142 Accuracy:   0.58594\n",
      "Epoch   45, Batch    0:  Loss:   1.79276 Accuracy:   0.53125\n",
      "Epoch   45, Batch  128:  Loss:   1.77631 Accuracy:   0.53906\n",
      "Epoch   45, Batch  256:  Loss:   1.76248 Accuracy:   0.54688\n",
      "Epoch   46, Batch    0:  Loss:   1.87166 Accuracy:   0.46875\n",
      "Epoch   46, Batch  128:  Loss:   1.84523 Accuracy:   0.45312\n",
      "Epoch   46, Batch  256:  Loss:   1.83164 Accuracy:   0.46875\n",
      "Epoch   47, Batch    0:  Loss:   1.98963 Accuracy:   0.40625\n",
      "Epoch   47, Batch  128:  Loss:   1.97509 Accuracy:   0.39062\n",
      "Epoch   47, Batch  256:  Loss:   1.94798 Accuracy:   0.40625\n",
      "Epoch   48, Batch    0:  Loss:   1.77466 Accuracy:   0.46875\n",
      "Epoch   48, Batch  128:  Loss:   1.75247 Accuracy:   0.46094\n",
      "Epoch   48, Batch  256:  Loss:   1.73035 Accuracy:   0.49219\n",
      "Epoch   49, Batch    0:  Loss:   1.85805 Accuracy:   0.50000\n",
      "Epoch   49, Batch  128:  Loss:   1.84090 Accuracy:   0.53125\n",
      "Epoch   49, Batch  256:  Loss:   1.83381 Accuracy:   0.53906\n",
      "Epoch   50, Batch    0:  Loss:   1.78579 Accuracy:   0.42969\n",
      "Epoch   50, Batch  128:  Loss:   1.75726 Accuracy:   0.42969\n",
      "Epoch   50, Batch  256:  Loss:   1.72753 Accuracy:   0.46875\n",
      "Epoch   51, Batch    0:  Loss:   1.71442 Accuracy:   0.48438\n",
      "Epoch   51, Batch  128:  Loss:   1.67463 Accuracy:   0.49219\n",
      "Epoch   51, Batch  256:  Loss:   1.68474 Accuracy:   0.50000\n",
      "Epoch   52, Batch    0:  Loss:   1.85564 Accuracy:   0.49219\n",
      "Epoch   52, Batch  128:  Loss:   1.84291 Accuracy:   0.48438\n",
      "Epoch   52, Batch  256:  Loss:   1.81705 Accuracy:   0.50000\n",
      "Epoch   53, Batch    0:  Loss:   1.87519 Accuracy:   0.46875\n",
      "Epoch   53, Batch  128:  Loss:   1.82534 Accuracy:   0.52344\n",
      "Epoch   53, Batch  256:  Loss:   1.79086 Accuracy:   0.54688\n",
      "Epoch   54, Batch    0:  Loss:   1.62239 Accuracy:   0.50000\n",
      "Epoch   54, Batch  128:  Loss:   1.61298 Accuracy:   0.50781\n",
      "Epoch   54, Batch  256:  Loss:   1.58396 Accuracy:   0.51562\n",
      "Epoch   55, Batch    0:  Loss:   1.85754 Accuracy:   0.48438\n",
      "Epoch   55, Batch  128:  Loss:   1.85358 Accuracy:   0.48438\n",
      "Epoch   55, Batch  256:  Loss:   1.83582 Accuracy:   0.48438\n",
      "Epoch   56, Batch    0:  Loss:   1.94351 Accuracy:   0.46094\n",
      "Epoch   56, Batch  128:  Loss:   1.89227 Accuracy:   0.47656\n",
      "Epoch   56, Batch  256:  Loss:   1.86194 Accuracy:   0.49219\n",
      "Epoch   57, Batch    0:  Loss:   1.69439 Accuracy:   0.53125\n",
      "Epoch   57, Batch  128:  Loss:   1.68132 Accuracy:   0.53906\n",
      "Epoch   57, Batch  256:  Loss:   1.66225 Accuracy:   0.54688\n",
      "Epoch   58, Batch    0:  Loss:   1.85732 Accuracy:   0.46875\n",
      "Epoch   58, Batch  128:  Loss:   1.84316 Accuracy:   0.46094\n",
      "Epoch   58, Batch  256:  Loss:   1.83542 Accuracy:   0.46094\n",
      "Epoch   59, Batch    0:  Loss:   1.74028 Accuracy:   0.43750\n",
      "Epoch   59, Batch  128:  Loss:   1.66266 Accuracy:   0.44531\n",
      "Epoch   59, Batch  256:  Loss:   1.64147 Accuracy:   0.46094\n",
      "Epoch   60, Batch    0:  Loss:   1.69038 Accuracy:   0.46094\n",
      "Epoch   60, Batch  128:  Loss:   1.67248 Accuracy:   0.46094\n",
      "Epoch   60, Batch  256:  Loss:   1.64127 Accuracy:   0.48438\n",
      "Epoch   61, Batch    0:  Loss:   1.81162 Accuracy:   0.45312\n",
      "Epoch   61, Batch  128:  Loss:   1.79014 Accuracy:   0.48438\n",
      "Epoch   61, Batch  256:  Loss:   1.76577 Accuracy:   0.49219\n",
      "Epoch   62, Batch    0:  Loss:   1.82179 Accuracy:   0.42188\n",
      "Epoch   62, Batch  128:  Loss:   1.80412 Accuracy:   0.41406\n",
      "Epoch   62, Batch  256:  Loss:   1.78363 Accuracy:   0.44531\n",
      "Epoch   63, Batch    0:  Loss:   1.65072 Accuracy:   0.51562\n",
      "Epoch   63, Batch  128:  Loss:   1.61500 Accuracy:   0.50000\n",
      "Epoch   63, Batch  256:  Loss:   1.59284 Accuracy:   0.50000\n",
      "Epoch   64, Batch    0:  Loss:   1.81365 Accuracy:   0.53906\n",
      "Epoch   64, Batch  128:  Loss:   1.78008 Accuracy:   0.55469\n",
      "Epoch   64, Batch  256:  Loss:   1.73858 Accuracy:   0.53906\n",
      "Epoch   65, Batch    0:  Loss:   1.82742 Accuracy:   0.42188\n",
      "Epoch   65, Batch  128:  Loss:   1.81284 Accuracy:   0.43750\n",
      "Epoch   65, Batch  256:  Loss:   1.79534 Accuracy:   0.43750\n",
      "Epoch   66, Batch    0:  Loss:   1.78636 Accuracy:   0.51562\n",
      "Epoch   66, Batch  128:  Loss:   1.76870 Accuracy:   0.51562\n",
      "Epoch   66, Batch  256:  Loss:   1.74586 Accuracy:   0.51562\n",
      "Epoch   67, Batch    0:  Loss:   1.66597 Accuracy:   0.51562\n",
      "Epoch   67, Batch  128:  Loss:   1.65876 Accuracy:   0.51562\n",
      "Epoch   67, Batch  256:  Loss:   1.64389 Accuracy:   0.53125\n",
      "Epoch   68, Batch    0:  Loss:   1.83394 Accuracy:   0.41406\n",
      "Epoch   68, Batch  128:  Loss:   1.80267 Accuracy:   0.43750\n",
      "Epoch   68, Batch  256:  Loss:   1.76221 Accuracy:   0.44531\n",
      "Epoch   69, Batch    0:  Loss:   1.45472 Accuracy:   0.50781\n",
      "Epoch   69, Batch  128:  Loss:   1.42136 Accuracy:   0.50781\n",
      "Epoch   69, Batch  256:  Loss:   1.41621 Accuracy:   0.52344\n",
      "Epoch   70, Batch    0:  Loss:   1.49597 Accuracy:   0.50000\n",
      "Epoch   70, Batch  128:  Loss:   1.47341 Accuracy:   0.50781\n",
      "Epoch   70, Batch  256:  Loss:   1.43178 Accuracy:   0.53906\n",
      "Epoch   71, Batch    0:  Loss:   1.89574 Accuracy:   0.38281\n",
      "Epoch   71, Batch  128:  Loss:   1.89968 Accuracy:   0.41406\n",
      "Epoch   71, Batch  256:  Loss:   1.90357 Accuracy:   0.39844\n",
      "Epoch   72, Batch    0:  Loss:   1.77974 Accuracy:   0.52344\n",
      "Epoch   72, Batch  128:  Loss:   1.75113 Accuracy:   0.53125\n",
      "Epoch   72, Batch  256:  Loss:   1.71339 Accuracy:   0.53125\n",
      "Epoch   73, Batch    0:  Loss:   2.02554 Accuracy:   0.40625\n",
      "Epoch   73, Batch  128:  "
     ]
    }
   ],
   "source": [
    "### Train your model here.\n",
    "### Calculate and report the accuracy on the training and validation set.\n",
    "### Once a final model architecture is selected, \n",
    "### the accuracy on the test set should be calculated and reported as well.\n",
    "### Feel free to use as many code cells as needed.\n",
    "\n",
    "def train_neural_network(session, optimizer, keep_probability, feature_batch, label_batch):\n",
    "    \"\"\"\n",
    "    Optimize the session on a batch of images and labels\n",
    "    : session: Current TensorFlow session\n",
    "    : optimizer: TensorFlow optimizer function\n",
    "    : keep_probability: keep probability\n",
    "    : feature_batch: Batch of Numpy image data\n",
    "    : label_batch: Batch of Numpy label data\n",
    "    \"\"\"\n",
    "    # TODO: Implement Function\n",
    "    \n",
    "    #x = neural_net_image_input((32, 32, 3))\n",
    "    #y = neural_net_label_input(10)\n",
    "    #keep_prob = neural_net_keep_prob_input()\n",
    "    \n",
    "    #print(label_batch)\n",
    "    config=tf.ConfigProto(#allow_soft_placement=True,\n",
    "                          log_device_placement=True,\n",
    "                          device_count = {'GPU': 8})\n",
    "    sess = tf.Session(config=config)\n",
    "    \n",
    "    feed_dict={keep_prob:keep_probability,x:feature_batch,y:label_batch}\n",
    "    \n",
    "    #print(feed_dict)\n",
    "\n",
    "    session.run(optimizer,feed_dict=feed_dict)\n",
    "    \n",
    "def print_stats(session, feature_batch, label_batch, cost, accuracy):\n",
    "    \"\"\"\n",
    "    Print information about loss and validation accuracy\n",
    "    : session: Current TensorFlow session\n",
    "    : feature_batch: Batch of Numpy image data\n",
    "    : label_batch: Batch of Numpy label data\n",
    "    : cost: TensorFlow cost function\n",
    "    : accuracy: TensorFlow accuracy function\n",
    "    \"\"\"   \n",
    "    feed_dict={keep_prob:1.,x:feature_batch,y:label_batch}\n",
    "    \n",
    "    # Should this be done on validation data?\n",
    "    # Calculate batch loss and accuracy\n",
    "    loss = session.run(cost,feed_dict=feed_dict)\n",
    "    valid_acc = sess.run(accuracy,feed_dict=feed_dict)\n",
    "    print('Loss: {0:9.5f} Accuracy: {1:9.5f}'.format(loss,valid_acc))\n",
    "    return loss, valid_acc\n",
    "    \n",
    "def get_next_batch(batches, batch_size = 64):\n",
    "    n_batches = len(batches)//batch_size\n",
    "    for idx in range(0,n_batches,batch_size):\n",
    "        batch = batches[idx:idx+batch_size,:,:,:]\n",
    "        yield [x,y]\n",
    "       \n",
    "# Parameters\n",
    "epochs = 10000  # 1000 @ 128 => 3430 sec / ~1h\n",
    "batch_size = 128\n",
    "keep_probability = 0.90\n",
    "\n",
    "save_model_path = './'\n",
    "\n",
    "import time\n",
    "print('Training...')\n",
    "start = time.time()\n",
    "saver = tf.train.Saver()\n",
    "with tf.Session() as sess:\n",
    "    # Initializing the variables\n",
    "    try:\n",
    "        saver.restore(sess, save_model_path)\n",
    "    except:\n",
    "        sess.run(tf.global_variables_initializer())\n",
    "        \n",
    "    saved_acc = 0.0\n",
    "    \n",
    "    # Training cycle\n",
    "    for epoch in range(epochs):\n",
    "        # Loop over all batches \n",
    "        n_batches = len(X_train)//batch_size \n",
    "        batch_idx =  ((np.random.random(batch_size)*X_train.shape[0])).astype(int)\n",
    "        for idx in range(0,n_batches,batch_size): # is this correct? noooooo!\n",
    "            batch_features = X_train[batch_idx,:,:,:]\n",
    "            batch_labels   = y_train[batch_idx]\n",
    "            train_neural_network(sess, optimizer, keep_probability, batch_features, batch_labels)\n",
    "            print('Epoch {:>4}, Batch {:>4}:  '.format(epoch + 1, idx), end='')\n",
    "            loss, acc = print_stats(sess, batch_features, batch_labels, cost, accuracy)\n",
    "\n",
    "        # Save Model from time to time\n",
    "        if acc > saved_acc:\n",
    "            save_path = saver.save(sess, save_model_path)\n",
    "            saved_acc = acc\n",
    "            print('Model saved')\n",
    "    \n",
    "print('Training time : {}'.format(time.time() - start))\n"
   ]
  },
  {
   "cell_type": "markdown",
   "metadata": {
    "deletable": true,
    "editable": true
   },
   "source": [
    "---\n",
    "\n",
    "## Step 3: Test a Model on New Images\n",
    "\n",
    "To give yourself more insight into how your model is working, download at least five pictures of German traffic signs from the web and use your model to predict the traffic sign type.\n",
    "\n",
    "You may find `signnames.csv` useful as it contains mappings from the class id (integer) to the actual sign name."
   ]
  },
  {
   "cell_type": "markdown",
   "metadata": {
    "deletable": true,
    "editable": true
   },
   "source": [
    "### Load and Output the Images"
   ]
  },
  {
   "cell_type": "code",
   "execution_count": 11,
   "metadata": {
    "collapsed": true,
    "deletable": true,
    "editable": true
   },
   "outputs": [],
   "source": [
    "### Load the images and plot them here.\n",
    "### Feel free to use as many code cells as needed."
   ]
  },
  {
   "cell_type": "markdown",
   "metadata": {
    "deletable": true,
    "editable": true
   },
   "source": [
    "### Predict the Sign Type for Each Image"
   ]
  },
  {
   "cell_type": "code",
   "execution_count": 12,
   "metadata": {
    "collapsed": false,
    "deletable": true,
    "editable": true
   },
   "outputs": [
    {
     "name": "stdout",
     "output_type": "stream",
     "text": [
      "Testing Accuracy: 0.34375\n",
      "\n"
     ]
    },
    {
     "data": {
      "image/png": "[encoded data removed]",
      "text/plain": [
       "<matplotlib.figure.Figure at 0x1843111c080>"
      ]
     },
     "metadata": {},
     "output_type": "display_data"
    }
   ],
   "source": [
    "save_model_path = './'\n",
    "n_samples = 10\n",
    "top_n_predictions = 3\n",
    "\n",
    "import random\n",
    "import pandas as pd\n",
    "from sklearn.preprocessing import LabelBinarizer\n",
    "\n",
    "def _load_label_names():\n",
    "    \"\"\"\n",
    "    Load the label names from file\n",
    "    \"\"\"\n",
    "    df = pd.read_csv('./signnames.csv')\n",
    "    return df['SignName'].values\n",
    "\n",
    "def display_image_predictions(features, labels, predictions,n_samples,top_n_predictions):\n",
    "    n_classes = 43\n",
    "    label_names = _load_label_names()\n",
    "    label_binarizer = LabelBinarizer()\n",
    "    label_binarizer.fit(range(n_classes))\n",
    "    label_ids = label_binarizer.inverse_transform(np.array(labels))\n",
    "\n",
    "    fig, axies = plt.subplots(nrows=n_samples, ncols=2)\n",
    "    #fig.tight_layout()\n",
    "    #fig.suptitle('Softmax Predictions', fontsize=20, y=1.1)\n",
    "    fig.suptitle('Softmax Predictions', fontsize=44)\n",
    "    fig.set_size_inches(21, 21)\n",
    "    \n",
    "    n_predictions = top_n_predictions  ### Check this later, computer is busy\n",
    "    margin = 0.05\n",
    "    ind = np.arange(n_predictions)\n",
    "    width = (1. - 2. * margin) / n_predictions\n",
    "\n",
    "    for image_i, (feature, label_id, pred_indicies, pred_values) in enumerate(zip(features, label_ids, predictions.indices, predictions.values)):\n",
    "        pred_names = [label_names[pred_i] for pred_i in pred_indicies]\n",
    "        correct_name = label_names[label_id]\n",
    "        \n",
    "        axies[image_i][0].imshow(feature[:,:,3:6])\n",
    "        axies[image_i][0].set_title(correct_name)\n",
    "        axies[image_i][0].set_axis_off()\n",
    "\n",
    "        axies[image_i][1].barh(ind + margin, pred_values[::-1], width)\n",
    "        axies[image_i][1].set_yticks(ind + margin)\n",
    "        axies[image_i][1].set_yticklabels(pred_names[::-1])\n",
    "        axies[image_i][1].set_xticks([0, 0.5, 1.0])\n",
    "        \n",
    "\n",
    "def test_model():\n",
    "    \"\"\"\n",
    "    Test the saved model against the test dataset\n",
    "    \"\"\"\n",
    "\n",
    "    test_features, test_labels = X_test, y_test\n",
    "\n",
    "    loaded_graph = tf.Graph()\n",
    "\n",
    "    with tf.Session(graph=loaded_graph) as sess:\n",
    "        # Load model\n",
    "        loader = tf.train.import_meta_graph(save_model_path + '.meta')\n",
    "        loader.restore(sess, save_model_path)\n",
    "\n",
    "        # Get Tensors from loaded model\n",
    "        loaded_x = loaded_graph.get_tensor_by_name('x:0')\n",
    "        loaded_y = loaded_graph.get_tensor_by_name('y:0')\n",
    "        loaded_keep_prob = loaded_graph.get_tensor_by_name('keep_prob:0')\n",
    "        loaded_logits = loaded_graph.get_tensor_by_name('logits:0')\n",
    "        loaded_acc = loaded_graph.get_tensor_by_name('accuracy:0')\n",
    "        \n",
    "        # Get accuracy in batches for memory limitations\n",
    "        test_batch_acc_total = 0\n",
    "        test_batch_count = 0\n",
    "        \n",
    "        #for train_feature_batch, train_label_batch in helper.batch_features_labels(test_features, test_labels, batch_size):\n",
    "        n_batches = len(X_test)//batch_size\n",
    "        for idx in range(0,n_batches,batch_size):\n",
    "            train_feature_batch = X_test[idx:idx+batch_size,:,:,:]\n",
    "            train_label_batch   = y_test[idx:idx+batch_size]\n",
    "            \n",
    "            test_batch_acc_total += sess.run(\n",
    "                loaded_acc,\n",
    "                feed_dict={loaded_x: train_feature_batch, loaded_y: train_label_batch, loaded_keep_prob: 1.0})\n",
    "            test_batch_count += 1\n",
    "\n",
    "        print('Testing Accuracy: {}\\n'.format(test_batch_acc_total/test_batch_count))\n",
    "\n",
    "        # Print Random Samples\n",
    "        random_test_features, random_test_labels = tuple(zip(*random.sample(list(zip(test_features, test_labels)), n_samples)))\n",
    "        random_test_predictions = sess.run(\n",
    "            tf.nn.top_k(tf.nn.softmax(loaded_logits), top_n_predictions),\n",
    "            feed_dict={loaded_x: random_test_features, loaded_y: random_test_labels, loaded_keep_prob: 1.0})\n",
    "        display_image_predictions(random_test_features, random_test_labels, random_test_predictions,n_samples,top_n_predictions)\n",
    "\n",
    "\n",
    "test_model()"
   ]
  },
  {
   "cell_type": "markdown",
   "metadata": {
    "deletable": true,
    "editable": true
   },
   "source": [
    "### Analyze Performance"
   ]
  },
  {
   "cell_type": "code",
   "execution_count": 13,
   "metadata": {
    "collapsed": true,
    "deletable": true,
    "editable": true
   },
   "outputs": [],
   "source": [
    "### Calculate the accuracy for these 5 new images. \n",
    "### For example, if the model predicted 1 out of 5 signs correctly, it's 20% accurate on these new images."
   ]
  },
  {
   "cell_type": "markdown",
   "metadata": {
    "deletable": true,
    "editable": true
   },
   "source": [
    "### Output Top 5 Softmax Probabilities For Each Image Found on the Web"
   ]
  },
  {
   "cell_type": "markdown",
   "metadata": {
    "deletable": true,
    "editable": true
   },
   "source": [
    "For each of the new images, print out the model's softmax probabilities to show the **certainty** of the model's predictions (limit the output to the top 5 probabilities for each image). [`tf.nn.top_k`](https://www.tensorflow.org/versions/r0.12/api_docs/python/nn.html#top_k) could prove helpful here. \n",
    "\n",
    "The example below demonstrates how tf.nn.top_k can be used to find the top k predictions for each image.\n",
    "\n",
    "`tf.nn.top_k` will return the values and indices (class ids) of the top k predictions. So if k=3, for each sign, it'll return the 3 largest probabilities (out of a possible 43) and the correspoding class ids.\n",
    "\n",
    "Take this numpy array as an example. The values in the array represent predictions. The array contains softmax probabilities for five candidate images with six possible classes. `tk.nn.top_k` is used to choose the three classes with the highest probability:\n",
    "\n",
    "```\n",
    "# (5, 6) array\n",
    "a = np.array([[ 0.24879643,  0.07032244,  0.12641572,  0.34763842,  0.07893497,\n",
    "         0.12789202],\n",
    "       [ 0.28086119,  0.27569815,  0.08594638,  0.0178669 ,  0.18063401,\n",
    "         0.15899337],\n",
    "       [ 0.26076848,  0.23664738,  0.08020603,  0.07001922,  0.1134371 ,\n",
    "         0.23892179],\n",
    "       [ 0.11943333,  0.29198961,  0.02605103,  0.26234032,  0.1351348 ,\n",
    "         0.16505091],\n",
    "       [ 0.09561176,  0.34396535,  0.0643941 ,  0.16240774,  0.24206137,\n",
    "         0.09155967]])\n",
    "```\n",
    "\n",
    "Running it through `sess.run(tf.nn.top_k(tf.constant(a), k=3))` produces:\n",
    "\n",
    "```\n",
    "TopKV2(values=array([[ 0.34763842,  0.24879643,  0.12789202],\n",
    "       [ 0.28086119,  0.27569815,  0.18063401],\n",
    "       [ 0.26076848,  0.23892179,  0.23664738],\n",
    "       [ 0.29198961,  0.26234032,  0.16505091],\n",
    "       [ 0.34396535,  0.24206137,  0.16240774]]), indices=array([[3, 0, 5],\n",
    "       [0, 1, 4],\n",
    "       [0, 5, 1],\n",
    "       [1, 3, 5],\n",
    "       [1, 4, 3]], dtype=int32))\n",
    "```\n",
    "\n",
    "Looking just at the first row we get `[ 0.34763842,  0.24879643,  0.12789202]`, you can confirm these are the 3 largest probabilities in `a`. You'll also notice `[3, 0, 5]` are the corresponding indices."
   ]
  },
  {
   "cell_type": "code",
   "execution_count": 14,
   "metadata": {
    "collapsed": true,
    "deletable": true,
    "editable": true
   },
   "outputs": [],
   "source": [
    "### Print out the top five softmax probabilities for the predictions on the German traffic sign images found on the web. \n",
    "### Feel free to use as many code cells as needed."
   ]
  },
  {
   "cell_type": "markdown",
   "metadata": {
    "deletable": true,
    "editable": true
   },
   "source": [
    "---\n",
    "\n",
    "## Step 4: Visualize the Neural Network's State with Test Images\n",
    "\n",
    " This Section is not required to complete but acts as an additional excersise for understaning the output of a neural network's weights. While neural networks can be a great learning device they are often referred to as a black box. We can understand what the weights of a neural network look like better by plotting their feature maps. After successfully training your neural network you can see what it's feature maps look like by plotting the output of the network's weight layers in response to a test stimuli image. From these plotted feature maps, it's possible to see what characteristics of an image the network finds interesting. For a sign, maybe the inner network feature maps react with high activation to the sign's boundary outline or to the contrast in the sign's painted symbol.\n",
    "\n",
    " Provided for you below is the function code that allows you to get the visualization output of any tensorflow weight layer you want. The inputs to the function should be a stimuli image, one used during training or a new one you provided, and then the tensorflow variable name that represents the layer's state during the training process, for instance if you wanted to see what the [LeNet lab's](https://classroom.udacity.com/nanodegrees/nd013/parts/fbf77062-5703-404e-b60c-95b78b2f3f9e/modules/6df7ae49-c61c-4bb2-a23e-6527e69209ec/lessons/601ae704-1035-4287-8b11-e2c2716217ad/concepts/d4aca031-508f-4e0b-b493-e7b706120f81) feature maps looked like for it's second convolutional layer you could enter conv2 as the tf_activation variable.\n",
    "\n",
    "For an example of what feature map outputs look like, check out NVIDIA's results in their paper [End-to-End Deep Learning for Self-Driving Cars](https://devblogs.nvidia.com/parallelforall/deep-learning-self-driving-cars/) in the section Visualization of internal CNN State. NVIDIA was able to show that their network's inner weights had high activations to road boundary lines by comparing feature maps from an image with a clear path to one without. Try experimenting with a similar test to show that your trained network's weights are looking for interesting features, whether it's looking at differences in feature maps from images with or without a sign, or even what feature maps look like in a trained network vs a completely untrained one on the same sign image.\n",
    "\n",
    "<figure>\n",
    " <img src=\"visualize_cnn.png\" width=\"380\" alt=\"Combined Image\" />\n",
    " <figcaption>\n",
    " <p></p> \n",
    " <p style=\"text-align: center;\"> Your output should look something like this (above)</p> \n",
    " </figcaption>\n",
    "</figure>\n",
    " <p></p> \n"
   ]
  },
  {
   "cell_type": "code",
   "execution_count": 15,
   "metadata": {
    "collapsed": true,
    "deletable": true,
    "editable": true
   },
   "outputs": [],
   "source": [
    "### Visualize your network's feature maps here.\n",
    "### Feel free to use as many code cells as needed.\n",
    "\n",
    "# image_input: the test image being fed into the network to produce the feature maps\n",
    "# tf_activation: should be a tf variable name used during your training procedure that represents the calculated state of a specific weight layer\n",
    "# activation_min/max: can be used to view the activation contrast in more detail, by default matplot sets min and max to the actual min and max values of the output\n",
    "# plt_num: used to plot out multiple different weight feature map sets on the same block, just extend the plt number for each new feature map entry\n",
    "\n",
    "def outputFeatureMap(image_input, tf_activation, activation_min=-1, activation_max=-1 ,plt_num=1):\n",
    "    # Here make sure to preprocess your image_input in a way your network expects\n",
    "    # with size, normalization, ect if needed\n",
    "    # image_input =\n",
    "    # Note: x should be the same name as your network's tensorflow data placeholder variable\n",
    "    # If you get an error tf_activation is not defined it maybe having trouble accessing the variable from inside a function\n",
    "    activation = tf_activation.eval(session=sess,feed_dict={x : image_input})\n",
    "    featuremaps = activation.shape[3]\n",
    "    plt.figure(plt_num, figsize=(15,15))\n",
    "    for featuremap in range(featuremaps):\n",
    "        plt.subplot(6,8, featuremap+1) # sets the number of feature maps to show on each row and column\n",
    "        plt.title('FeatureMap ' + str(featuremap)) # displays the feature map number\n",
    "        if activation_min != -1 & activation_max != -1:\n",
    "            plt.imshow(activation[0,:,:, featuremap], interpolation=\"nearest\", vmin =activation_min, vmax=activation_max, cmap=\"gray\")\n",
    "        elif activation_max != -1:\n",
    "            plt.imshow(activation[0,:,:, featuremap], interpolation=\"nearest\", vmax=activation_max, cmap=\"gray\")\n",
    "        elif activation_min !=-1:\n",
    "            plt.imshow(activation[0,:,:, featuremap], interpolation=\"nearest\", vmin=activation_min, cmap=\"gray\")\n",
    "        else:\n",
    "            plt.imshow(activation[0,:,:, featuremap], interpolation=\"nearest\", cmap=\"gray\")"
   ]
  },
  {
   "cell_type": "markdown",
   "metadata": {
    "deletable": true,
    "editable": true
   },
   "source": [
    "### Question 9\n",
    "\n",
    "Discuss how you used the visual output of your trained network's feature maps to show that it had learned to look for interesting characteristics in traffic sign images\n"
   ]
  },
  {
   "cell_type": "markdown",
   "metadata": {
    "deletable": true,
    "editable": true
   },
   "source": [
    "**Answer:**"
   ]
  },
  {
   "cell_type": "markdown",
   "metadata": {
    "deletable": true,
    "editable": true
   },
   "source": [
    "> **Note**: Once you have completed all of the code implementations and successfully answered each question above, you may finalize your work by exporting the iPython Notebook as an HTML document. You can do this by using the menu above and navigating to  \\n\",\n",
    "    \"**File -> Download as -> HTML (.html)**. Include the finished document along with this notebook as your submission."
   ]
  },
  {
   "cell_type": "markdown",
   "metadata": {
    "deletable": true,
    "editable": true
   },
   "source": [
    "### Project Writeup\n",
    "\n",
    "Once you have completed the code implementation, document your results in a project writeup using this [template](https://github.com/udacity/CarND-Traffic-Sign-Classifier-Project/blob/master/writeup_template.md) as a guide. The writeup can be in a markdown or pdf file. "
   ]
  }
 ],
 "metadata": {
  "anaconda-cloud": {},
  "kernelspec": {
   "display_name": "Python 3",
   "language": "python",
   "name": "python3"
  },
  "language_info": {
   "codemirror_mode": {
    "name": "ipython",
    "version": 3
   },
   "file_extension": ".py",
   "mimetype": "text/x-python",
   "name": "python",
   "nbconvert_exporter": "python",
   "pygments_lexer": "ipython3",
   "version": "3.5.2"
  },
  "widgets": {
   "state": {},
   "version": "1.1.2"
  }
 },
 "nbformat": 4,
 "nbformat_minor": 1
}
